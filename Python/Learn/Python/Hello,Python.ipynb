{
 "cells": [
  {
   "cell_type": "markdown",
   "id": "a321bade",
   "metadata": {
    "papermill": {
     "duration": 0.008819,
     "end_time": "2025-01-24T18:15:56.257137",
     "exception": false,
     "start_time": "2025-01-24T18:15:56.248318",
     "status": "completed"
    },
    "tags": []
   },
   "source": [
    "This course covers the key Python skills you’ll need so you can start using Python for data science. The course is ideal for someone with some previous coding experience who wants to add Python to their repertoire. (If you're a first-time coder, you are encouraged to check out our [Intro to Programming course](https://www.kaggle.com/learn/intro-to-programming), which is designed for complete beginners who would like to get started with Python.)\n",
    "\n",
    "We'll start with a brief overview of Python syntax, variable assignment, and arithmetic operators. "
   ]
  },
  {
   "cell_type": "markdown",
   "id": "4536fba7",
   "metadata": {
    "papermill": {
     "duration": 0.006061,
     "end_time": "2025-01-24T18:15:56.269930",
     "exception": false,
     "start_time": "2025-01-24T18:15:56.263869",
     "status": "completed"
    },
    "tags": []
   },
   "source": [
    "# Hello, Python!\n",
    "\n",
    "Python was named for the British comedy troupe [Monty Python](https://en.wikipedia.org/wiki/Monty_Python), so we'll make our first Python program a homage to their skit about [Spam](https://bit.ly/3MwwjSs).\n",
    "\n",
    "Just for fun, try reading over the code below and predicting what it's going to do when run. (If you have no idea, that's fine!)\n",
    "\n",
    "Then click the \"output\" button to see the results of our program."
   ]
  },
  {
   "cell_type": "code",
   "execution_count": 1,
   "id": "2d1c90f8",
   "metadata": {
    "_kg_hide-output": true,
    "execution": {
     "iopub.execute_input": "2025-01-24T18:15:56.284305Z",
     "iopub.status.busy": "2025-01-24T18:15:56.283787Z",
     "iopub.status.idle": "2025-01-24T18:15:56.291503Z",
     "shell.execute_reply": "2025-01-24T18:15:56.290276Z"
    },
    "papermill": {
     "duration": 0.016736,
     "end_time": "2025-01-24T18:15:56.293049",
     "exception": false,
     "start_time": "2025-01-24T18:15:56.276313",
     "status": "completed"
    },
    "tags": []
   },
   "outputs": [
    {
     "name": "stdout",
     "output_type": "stream",
     "text": [
      "0\n",
      "But I don't want ANY spam!\n",
      "Spam Spam Spam Spam \n"
     ]
    }
   ],
   "source": [
    "spam_amount = 0\n",
    "print(spam_amount)\n",
    "\n",
    "# Ordering Spam, egg, Spam, Spam, bacon and Spam (4 more servings of Spam)\n",
    "spam_amount = spam_amount + 4\n",
    "\n",
    "if spam_amount > 0:\n",
    "    print(\"But I don't want ANY spam!\")\n",
    "\n",
    "viking_song = \"Spam \" * spam_amount\n",
    "print(viking_song)"
   ]
  },
  {
   "cell_type": "markdown",
   "id": "575eb4c5",
   "metadata": {
    "papermill": {
     "duration": 0.007207,
     "end_time": "2025-01-24T18:15:56.306973",
     "exception": false,
     "start_time": "2025-01-24T18:15:56.299766",
     "status": "completed"
    },
    "tags": []
   },
   "source": [
    "There's a lot to unpack here! This silly program demonstrates many important aspects of what Python code looks like and how it works. Let's review the code from top to bottom."
   ]
  },
  {
   "cell_type": "code",
   "execution_count": 2,
   "id": "e83fc642",
   "metadata": {
    "collapsed": true,
    "execution": {
     "iopub.execute_input": "2025-01-24T18:15:56.322541Z",
     "iopub.status.busy": "2025-01-24T18:15:56.322153Z",
     "iopub.status.idle": "2025-01-24T18:15:56.326278Z",
     "shell.execute_reply": "2025-01-24T18:15:56.325301Z"
    },
    "jupyter": {
     "outputs_hidden": true
    },
    "papermill": {
     "duration": 0.014234,
     "end_time": "2025-01-24T18:15:56.328036",
     "exception": false,
     "start_time": "2025-01-24T18:15:56.313802",
     "status": "completed"
    },
    "tags": []
   },
   "outputs": [],
   "source": [
    "spam_amount = 0"
   ]
  },
  {
   "cell_type": "markdown",
   "id": "0d67db4b",
   "metadata": {
    "papermill": {
     "duration": 0.00646,
     "end_time": "2025-01-24T18:15:56.341761",
     "exception": false,
     "start_time": "2025-01-24T18:15:56.335301",
     "status": "completed"
    },
    "tags": []
   },
   "source": [
    "**Variable assignment:** Here we create a variable called `spam_amount` and assign it the value of 0 using `=`, which is called the assignment operator.\n",
    "\n",
    "> **Note**: If you've programmed in certain other languages (like Java or C++), you might be noticing some things Python *doesn't* require us to do here:  \n",
    "- we don't need to \"declare\" `spam_amount` before assigning to it\n",
    "- we don't need to tell Python what type of value `spam_amount` is going to refer to. In fact, we can even go on to reassign `spam_amount` to refer to a different sort of thing like a string or a boolean."
   ]
  },
  {
   "cell_type": "code",
   "execution_count": 3,
   "id": "04b7caab",
   "metadata": {
    "_kg_hide-output": false,
    "collapsed": true,
    "execution": {
     "iopub.execute_input": "2025-01-24T18:15:56.356493Z",
     "iopub.status.busy": "2025-01-24T18:15:56.356135Z",
     "iopub.status.idle": "2025-01-24T18:15:56.361167Z",
     "shell.execute_reply": "2025-01-24T18:15:56.359961Z"
    },
    "jupyter": {
     "outputs_hidden": true
    },
    "papermill": {
     "duration": 0.014295,
     "end_time": "2025-01-24T18:15:56.362954",
     "exception": false,
     "start_time": "2025-01-24T18:15:56.348659",
     "status": "completed"
    },
    "tags": []
   },
   "outputs": [
    {
     "name": "stdout",
     "output_type": "stream",
     "text": [
      "0\n"
     ]
    }
   ],
   "source": [
    "print(spam_amount)"
   ]
  },
  {
   "cell_type": "markdown",
   "id": "d06ee491",
   "metadata": {
    "papermill": {
     "duration": 0.006661,
     "end_time": "2025-01-24T18:15:56.376532",
     "exception": false,
     "start_time": "2025-01-24T18:15:56.369871",
     "status": "completed"
    },
    "tags": []
   },
   "source": [
    "**Function calls:**. `print` is a Python function that displays the value passed to it on the screen. We call functions by putting parentheses after their name, and putting the inputs (or *arguments*) to the function in those parentheses."
   ]
  },
  {
   "cell_type": "code",
   "execution_count": 4,
   "id": "6c71a8ff",
   "metadata": {
    "_kg_hide-output": false,
    "collapsed": true,
    "execution": {
     "iopub.execute_input": "2025-01-24T18:15:56.391101Z",
     "iopub.status.busy": "2025-01-24T18:15:56.390729Z",
     "iopub.status.idle": "2025-01-24T18:15:56.394876Z",
     "shell.execute_reply": "2025-01-24T18:15:56.393776Z"
    },
    "jupyter": {
     "outputs_hidden": true
    },
    "papermill": {
     "duration": 0.013471,
     "end_time": "2025-01-24T18:15:56.396680",
     "exception": false,
     "start_time": "2025-01-24T18:15:56.383209",
     "status": "completed"
    },
    "tags": []
   },
   "outputs": [],
   "source": [
    "# Ordering Spam, egg, Spam, Spam, bacon and Spam (4 more servings of Spam)\n",
    "spam_amount = spam_amount + 4"
   ]
  },
  {
   "cell_type": "markdown",
   "id": "62094793",
   "metadata": {
    "papermill": {
     "duration": 0.006316,
     "end_time": "2025-01-24T18:15:56.409854",
     "exception": false,
     "start_time": "2025-01-24T18:15:56.403538",
     "status": "completed"
    },
    "tags": []
   },
   "source": [
    "The first line above is a **comment**. In Python, comments begin with the `#` symbol.\n",
    "\n",
    "Next we see an example of reassignment. Reassigning the value of an existing variable looks just the same as creating a variable - it still uses the `=` assignment operator.\n",
    "\n",
    "In this case, the value we're assigning to `spam_amount` involves some simple arithmetic on its previous value. When it encounters this line, Python evaluates the expression on the right-hand-side of the `=` (0 + 4 = 4), and then assigns that value to the variable on the left-hand-side."
   ]
  },
  {
   "cell_type": "code",
   "execution_count": 5,
   "id": "0f9155ff",
   "metadata": {
    "_kg_hide-output": false,
    "collapsed": true,
    "execution": {
     "iopub.execute_input": "2025-01-24T18:15:56.424068Z",
     "iopub.status.busy": "2025-01-24T18:15:56.423707Z",
     "iopub.status.idle": "2025-01-24T18:15:56.428760Z",
     "shell.execute_reply": "2025-01-24T18:15:56.427690Z"
    },
    "jupyter": {
     "outputs_hidden": true
    },
    "papermill": {
     "duration": 0.014059,
     "end_time": "2025-01-24T18:15:56.430477",
     "exception": false,
     "start_time": "2025-01-24T18:15:56.416418",
     "status": "completed"
    },
    "tags": []
   },
   "outputs": [
    {
     "name": "stdout",
     "output_type": "stream",
     "text": [
      "But I don't want ANY spam!\n",
      "Spam Spam Spam\n"
     ]
    }
   ],
   "source": [
    "if spam_amount > 0:\n",
    "    print(\"But I don't want ANY spam!\")\n",
    "\n",
    "viking_song = \"Spam Spam Spam\"\n",
    "print(viking_song)"
   ]
  },
  {
   "cell_type": "markdown",
   "id": "d85215fe",
   "metadata": {
    "papermill": {
     "duration": 0.006669,
     "end_time": "2025-01-24T18:15:56.444103",
     "exception": false,
     "start_time": "2025-01-24T18:15:56.437434",
     "status": "completed"
    },
    "tags": []
   },
   "source": [
    "We won't talk much about \"conditionals\" until later, but, even if you've never coded before, you can probably guess what this does. Python is prized for its readability and the simplicity. \n",
    "\n",
    "Note how we indicated which code belongs to the `if`. `\"But I don't want ANY spam!\"` is only supposed to be printed if `spam_amount` is positive. But the later code (like `print(viking_song)`) should be executed no matter what. How do we (and Python) know that?\n",
    "\n",
    "The colon (`:`) at the end of the `if` line indicates that a new **code block** is starting. Subsequent lines which are indented are part of that code block. \n",
    "> **Note**: If you've coded before, you might know that some other languages use `{`curly braces`}` to mark the beginning and end of code blocks. Python's use of meaningful whitespace can be surprising to programmers who are accustomed to other languages, but in practice it can lead to more consistent and readable code than languages that do not enforce indentation of code blocks. \n",
    "\n",
    "The later lines dealing with `viking_song` are not indented with an extra 4 spaces, so they're not a part of the `if`'s code block. We'll see more examples of indented code blocks later when we define functions and using loops.\n",
    "\n",
    "This code snippet is also our first sighting of a **string** in Python:\n",
    "\n",
    "```python\n",
    "\"But I don't want ANY spam!\"\n",
    "```\n",
    "\n",
    "Strings can be marked either by double or single quotation marks. (But because this particular string *contains* a single-quote character, we might confuse Python by trying to surround it with single-quotes, unless we're careful.)"
   ]
  },
  {
   "cell_type": "code",
   "execution_count": 6,
   "id": "fa419a39",
   "metadata": {
    "_kg_hide-output": false,
    "collapsed": true,
    "execution": {
     "iopub.execute_input": "2025-01-24T18:15:56.459089Z",
     "iopub.status.busy": "2025-01-24T18:15:56.458671Z",
     "iopub.status.idle": "2025-01-24T18:15:56.463708Z",
     "shell.execute_reply": "2025-01-24T18:15:56.462388Z"
    },
    "jupyter": {
     "outputs_hidden": true
    },
    "papermill": {
     "duration": 0.014538,
     "end_time": "2025-01-24T18:15:56.465527",
     "exception": false,
     "start_time": "2025-01-24T18:15:56.450989",
     "status": "completed"
    },
    "tags": []
   },
   "outputs": [
    {
     "name": "stdout",
     "output_type": "stream",
     "text": [
      "Spam Spam Spam Spam \n"
     ]
    }
   ],
   "source": [
    "viking_song = \"Spam \" * spam_amount\n",
    "print(viking_song)"
   ]
  },
  {
   "cell_type": "markdown",
   "id": "1f1e7581",
   "metadata": {
    "papermill": {
     "duration": 0.00674,
     "end_time": "2025-01-24T18:15:56.480081",
     "exception": false,
     "start_time": "2025-01-24T18:15:56.473341",
     "status": "completed"
    },
    "tags": []
   },
   "source": [
    "The `*` operator can be used to multiply two numbers (`3 * 3` evaluates to 9), but we can also multiply a string by a number, to get a version that's been repeated that many times. Python offers a number of cheeky little time-saving tricks like this where operators like `*` and `+` have a different meaning depending on what kind of thing they're applied to. (The technical term for this is [operator overloading](https://en.wikipedia.org/wiki/Operator_overloading).)"
   ]
  },
  {
   "cell_type": "markdown",
   "id": "fee50062",
   "metadata": {
    "papermill": {
     "duration": 0.00728,
     "end_time": "2025-01-24T18:15:56.494831",
     "exception": false,
     "start_time": "2025-01-24T18:15:56.487551",
     "status": "completed"
    },
    "tags": []
   },
   "source": [
    "## Numbers and arithmetic in Python\n",
    "\n",
    "We've already seen an example of a variable containing a number above:"
   ]
  },
  {
   "cell_type": "code",
   "execution_count": 7,
   "id": "6213c34a",
   "metadata": {
    "collapsed": true,
    "execution": {
     "iopub.execute_input": "2025-01-24T18:15:56.511449Z",
     "iopub.status.busy": "2025-01-24T18:15:56.511108Z",
     "iopub.status.idle": "2025-01-24T18:15:56.515439Z",
     "shell.execute_reply": "2025-01-24T18:15:56.514521Z"
    },
    "jupyter": {
     "outputs_hidden": true
    },
    "papermill": {
     "duration": 0.014481,
     "end_time": "2025-01-24T18:15:56.517326",
     "exception": false,
     "start_time": "2025-01-24T18:15:56.502845",
     "status": "completed"
    },
    "tags": []
   },
   "outputs": [],
   "source": [
    "spam_amount = 0"
   ]
  },
  {
   "cell_type": "markdown",
   "id": "a0f2b2ce",
   "metadata": {
    "papermill": {
     "duration": 0.006746,
     "end_time": "2025-01-24T18:15:56.531662",
     "exception": false,
     "start_time": "2025-01-24T18:15:56.524916",
     "status": "completed"
    },
    "tags": []
   },
   "source": [
    "\"Number\" is a fine informal name for the kind of thing, but if we wanted to be more technical, we could ask Python how it would describe the type of thing that `spam_amount` is:"
   ]
  },
  {
   "cell_type": "code",
   "execution_count": 8,
   "id": "126f769f",
   "metadata": {
    "collapsed": true,
    "execution": {
     "iopub.execute_input": "2025-01-24T18:15:56.547660Z",
     "iopub.status.busy": "2025-01-24T18:15:56.547319Z",
     "iopub.status.idle": "2025-01-24T18:15:56.553772Z",
     "shell.execute_reply": "2025-01-24T18:15:56.552602Z"
    },
    "jupyter": {
     "outputs_hidden": true
    },
    "papermill": {
     "duration": 0.016505,
     "end_time": "2025-01-24T18:15:56.555417",
     "exception": false,
     "start_time": "2025-01-24T18:15:56.538912",
     "status": "completed"
    },
    "tags": []
   },
   "outputs": [
    {
     "data": {
      "text/plain": [
       "int"
      ]
     },
     "execution_count": 8,
     "metadata": {},
     "output_type": "execute_result"
    }
   ],
   "source": [
    "type(spam_amount)"
   ]
  },
  {
   "cell_type": "markdown",
   "id": "27ac04a5",
   "metadata": {
    "papermill": {
     "duration": 0.007243,
     "end_time": "2025-01-24T18:15:56.570064",
     "exception": false,
     "start_time": "2025-01-24T18:15:56.562821",
     "status": "completed"
    },
    "tags": []
   },
   "source": [
    "It's an `int` - short for integer. There's another sort of number we commonly encounter in Python:"
   ]
  },
  {
   "cell_type": "code",
   "execution_count": 9,
   "id": "904c83af",
   "metadata": {
    "collapsed": true,
    "execution": {
     "iopub.execute_input": "2025-01-24T18:15:56.586399Z",
     "iopub.status.busy": "2025-01-24T18:15:56.586060Z",
     "iopub.status.idle": "2025-01-24T18:15:56.591902Z",
     "shell.execute_reply": "2025-01-24T18:15:56.590827Z"
    },
    "jupyter": {
     "outputs_hidden": true
    },
    "papermill": {
     "duration": 0.01591,
     "end_time": "2025-01-24T18:15:56.593813",
     "exception": false,
     "start_time": "2025-01-24T18:15:56.577903",
     "status": "completed"
    },
    "tags": []
   },
   "outputs": [
    {
     "data": {
      "text/plain": [
       "float"
      ]
     },
     "execution_count": 9,
     "metadata": {},
     "output_type": "execute_result"
    }
   ],
   "source": [
    "type(19.95)"
   ]
  },
  {
   "cell_type": "markdown",
   "id": "3e30048a",
   "metadata": {
    "papermill": {
     "duration": 0.007101,
     "end_time": "2025-01-24T18:15:56.609466",
     "exception": false,
     "start_time": "2025-01-24T18:15:56.602365",
     "status": "completed"
    },
    "tags": []
   },
   "source": [
    "A `float` is a number with a decimal place - very useful for representing things like weights or proportions.\n",
    "\n",
    "`type()` is the second built-in function we've seen (after `print()`), and it's another good one to remember. It's very useful to be able to ask Python \"what kind of thing is this?\". "
   ]
  },
  {
   "cell_type": "markdown",
   "id": "7c38198f",
   "metadata": {
    "papermill": {
     "duration": 0.006846,
     "end_time": "2025-01-24T18:15:56.623576",
     "exception": false,
     "start_time": "2025-01-24T18:15:56.616730",
     "status": "completed"
    },
    "tags": []
   },
   "source": [
    "A natural thing to want to do with numbers is perform arithmetic. We've seen the `+` operator for addition, and the `*` operator for multiplication. Python also has us covered for the rest of the basic buttons on your calculator:\n",
    "\n",
    "| Operator     | Name           | Description                                            |\n",
    "|--------------|----------------|--------------------------------------------------------|\n",
    "| ``a + b``    | Addition       | Sum of ``a`` and ``b``                                 |\n",
    "| ``a - b``    | Subtraction    | Difference of ``a`` and ``b``                          |\n",
    "| ``a * b``    | Multiplication | Product of ``a`` and ``b``                             |\n",
    "| ``a / b``    | True division  | Quotient of ``a`` and ``b``                            |\n",
    "| ``a // b``   | Floor division | Quotient of ``a`` and ``b``, removing fractional parts |\n",
    "| ``a % b``    | Modulus        | Integer remainder after division of ``a`` by ``b``     |\n",
    "| ``a ** b``   | Exponentiation | ``a`` raised to the power of ``b``                     |\n",
    "| ``-a``       | Negation       | The negative of ``a``                                  |\n",
    "\n",
    "<span style=\"display:none\"></span>\n",
    "\n",
    "One interesting observation here is that, whereas your calculator probably just has one button for division, Python can do two kinds. \"True division\" is basically what your calculator does:"
   ]
  },
  {
   "cell_type": "code",
   "execution_count": 10,
   "id": "d0c24c9b",
   "metadata": {
    "collapsed": true,
    "execution": {
     "iopub.execute_input": "2025-01-24T18:15:56.639581Z",
     "iopub.status.busy": "2025-01-24T18:15:56.639182Z",
     "iopub.status.idle": "2025-01-24T18:15:56.644257Z",
     "shell.execute_reply": "2025-01-24T18:15:56.642932Z"
    },
    "jupyter": {
     "outputs_hidden": true
    },
    "papermill": {
     "duration": 0.015333,
     "end_time": "2025-01-24T18:15:56.646306",
     "exception": false,
     "start_time": "2025-01-24T18:15:56.630973",
     "status": "completed"
    },
    "tags": []
   },
   "outputs": [
    {
     "name": "stdout",
     "output_type": "stream",
     "text": [
      "2.5\n",
      "3.0\n"
     ]
    }
   ],
   "source": [
    "print(5 / 2)\n",
    "print(6 / 2)"
   ]
  },
  {
   "cell_type": "markdown",
   "id": "93f2f73f",
   "metadata": {
    "papermill": {
     "duration": 0.007063,
     "end_time": "2025-01-24T18:15:56.661103",
     "exception": false,
     "start_time": "2025-01-24T18:15:56.654040",
     "status": "completed"
    },
    "tags": []
   },
   "source": [
    "It always gives us a `float`. \n",
    "\n",
    "The `//` operator gives us a result that's rounded down to the next integer."
   ]
  },
  {
   "cell_type": "code",
   "execution_count": 11,
   "id": "4ebdb1f6",
   "metadata": {
    "collapsed": true,
    "execution": {
     "iopub.execute_input": "2025-01-24T18:15:56.677697Z",
     "iopub.status.busy": "2025-01-24T18:15:56.677364Z",
     "iopub.status.idle": "2025-01-24T18:15:56.682806Z",
     "shell.execute_reply": "2025-01-24T18:15:56.681255Z"
    },
    "jupyter": {
     "outputs_hidden": true
    },
    "papermill": {
     "duration": 0.015779,
     "end_time": "2025-01-24T18:15:56.684504",
     "exception": false,
     "start_time": "2025-01-24T18:15:56.668725",
     "status": "completed"
    },
    "tags": []
   },
   "outputs": [
    {
     "name": "stdout",
     "output_type": "stream",
     "text": [
      "2\n",
      "3\n"
     ]
    }
   ],
   "source": [
    "print(5 // 2)\n",
    "print(6 // 2)"
   ]
  },
  {
   "cell_type": "markdown",
   "id": "0c3d3a09",
   "metadata": {
    "papermill": {
     "duration": 0.00713,
     "end_time": "2025-01-24T18:15:56.699892",
     "exception": false,
     "start_time": "2025-01-24T18:15:56.692762",
     "status": "completed"
    },
    "tags": []
   },
   "source": [
    "Can you think of where this would be useful? You'll see an example soon in the coding challenges."
   ]
  },
  {
   "cell_type": "markdown",
   "id": "0c5ff516",
   "metadata": {
    "papermill": {
     "duration": 0.00717,
     "end_time": "2025-01-24T18:15:56.714563",
     "exception": false,
     "start_time": "2025-01-24T18:15:56.707393",
     "status": "completed"
    },
    "tags": []
   },
   "source": [
    "### Order of operations\n",
    "\n",
    "The arithmetic we learned in primary school has conventions about the order in which operations are evaluated. Some remember these by a mnemonic such as **PEMDAS** - **P**arentheses, **E**xponents, **M**ultiplication/**D**ivision, **A**ddition/**S**ubtraction.\n",
    "\n",
    "Python follows similar rules about which calculations to perform first. They're mostly pretty intuitive."
   ]
  },
  {
   "cell_type": "code",
   "execution_count": 12,
   "id": "a9852cde",
   "metadata": {
    "collapsed": true,
    "execution": {
     "iopub.execute_input": "2025-01-24T18:15:56.730719Z",
     "iopub.status.busy": "2025-01-24T18:15:56.730311Z",
     "iopub.status.idle": "2025-01-24T18:15:56.735976Z",
     "shell.execute_reply": "2025-01-24T18:15:56.734841Z"
    },
    "jupyter": {
     "outputs_hidden": true
    },
    "papermill": {
     "duration": 0.015724,
     "end_time": "2025-01-24T18:15:56.737695",
     "exception": false,
     "start_time": "2025-01-24T18:15:56.721971",
     "status": "completed"
    },
    "tags": []
   },
   "outputs": [
    {
     "data": {
      "text/plain": [
       "7"
      ]
     },
     "execution_count": 12,
     "metadata": {},
     "output_type": "execute_result"
    }
   ],
   "source": [
    "8 - 3 + 2"
   ]
  },
  {
   "cell_type": "code",
   "execution_count": 13,
   "id": "da2afe11",
   "metadata": {
    "collapsed": true,
    "execution": {
     "iopub.execute_input": "2025-01-24T18:15:56.754933Z",
     "iopub.status.busy": "2025-01-24T18:15:56.754548Z",
     "iopub.status.idle": "2025-01-24T18:15:56.760090Z",
     "shell.execute_reply": "2025-01-24T18:15:56.759075Z"
    },
    "jupyter": {
     "outputs_hidden": true
    },
    "papermill": {
     "duration": 0.016264,
     "end_time": "2025-01-24T18:15:56.761697",
     "exception": false,
     "start_time": "2025-01-24T18:15:56.745433",
     "status": "completed"
    },
    "tags": []
   },
   "outputs": [
    {
     "data": {
      "text/plain": [
       "5"
      ]
     },
     "execution_count": 13,
     "metadata": {},
     "output_type": "execute_result"
    }
   ],
   "source": [
    "-3 + 4 * 2"
   ]
  },
  {
   "cell_type": "markdown",
   "id": "18074223",
   "metadata": {
    "papermill": {
     "duration": 0.007375,
     "end_time": "2025-01-24T18:15:56.777082",
     "exception": false,
     "start_time": "2025-01-24T18:15:56.769707",
     "status": "completed"
    },
    "tags": []
   },
   "source": [
    "Sometimes the default order of operations isn't what we want:"
   ]
  },
  {
   "cell_type": "code",
   "execution_count": 14,
   "id": "133dc403",
   "metadata": {
    "collapsed": true,
    "execution": {
     "iopub.execute_input": "2025-01-24T18:15:56.794094Z",
     "iopub.status.busy": "2025-01-24T18:15:56.793690Z",
     "iopub.status.idle": "2025-01-24T18:15:56.800485Z",
     "shell.execute_reply": "2025-01-24T18:15:56.799493Z"
    },
    "jupyter": {
     "outputs_hidden": true
    },
    "papermill": {
     "duration": 0.017528,
     "end_time": "2025-01-24T18:15:56.802283",
     "exception": false,
     "start_time": "2025-01-24T18:15:56.784755",
     "status": "completed"
    },
    "tags": []
   },
   "outputs": [
    {
     "name": "stdout",
     "output_type": "stream",
     "text": [
      "Height in meters = 26.9 ?\n"
     ]
    }
   ],
   "source": [
    "hat_height_cm = 25\n",
    "my_height_cm = 190\n",
    "# How tall am I, in meters, when wearing my hat?\n",
    "total_height_meters = hat_height_cm + my_height_cm / 100\n",
    "print(\"Height in meters =\", total_height_meters, \"?\")"
   ]
  },
  {
   "cell_type": "markdown",
   "id": "6a6ace8c",
   "metadata": {
    "papermill": {
     "duration": 0.007524,
     "end_time": "2025-01-24T18:15:56.818039",
     "exception": false,
     "start_time": "2025-01-24T18:15:56.810515",
     "status": "completed"
    },
    "tags": []
   },
   "source": [
    "Parentheses are useful here. You can add them to force Python to evaluate sub-expressions in whatever order you want."
   ]
  },
  {
   "cell_type": "code",
   "execution_count": 15,
   "id": "3e7fbe4c",
   "metadata": {
    "collapsed": true,
    "execution": {
     "iopub.execute_input": "2025-01-24T18:15:56.835271Z",
     "iopub.status.busy": "2025-01-24T18:15:56.834881Z",
     "iopub.status.idle": "2025-01-24T18:15:56.840540Z",
     "shell.execute_reply": "2025-01-24T18:15:56.839134Z"
    },
    "jupyter": {
     "outputs_hidden": true
    },
    "papermill": {
     "duration": 0.016469,
     "end_time": "2025-01-24T18:15:56.842268",
     "exception": false,
     "start_time": "2025-01-24T18:15:56.825799",
     "status": "completed"
    },
    "tags": []
   },
   "outputs": [
    {
     "name": "stdout",
     "output_type": "stream",
     "text": [
      "Height in meters = 2.15\n"
     ]
    }
   ],
   "source": [
    "total_height_meters = (hat_height_cm + my_height_cm) / 100\n",
    "print(\"Height in meters =\", total_height_meters)"
   ]
  },
  {
   "cell_type": "markdown",
   "id": "107c3b9e",
   "metadata": {
    "papermill": {
     "duration": 0.008141,
     "end_time": "2025-01-24T18:15:56.858424",
     "exception": false,
     "start_time": "2025-01-24T18:15:56.850283",
     "status": "completed"
    },
    "tags": []
   },
   "source": [
    "### Builtin functions for working with numbers\n",
    "\n",
    "`min` and `max` return the minimum and maximum of their arguments, respectively..."
   ]
  },
  {
   "cell_type": "code",
   "execution_count": 16,
   "id": "377c1c03",
   "metadata": {
    "collapsed": true,
    "execution": {
     "iopub.execute_input": "2025-01-24T18:15:56.875897Z",
     "iopub.status.busy": "2025-01-24T18:15:56.875473Z",
     "iopub.status.idle": "2025-01-24T18:15:56.880560Z",
     "shell.execute_reply": "2025-01-24T18:15:56.879296Z"
    },
    "jupyter": {
     "outputs_hidden": true
    },
    "papermill": {
     "duration": 0.015708,
     "end_time": "2025-01-24T18:15:56.882205",
     "exception": false,
     "start_time": "2025-01-24T18:15:56.866497",
     "status": "completed"
    },
    "tags": []
   },
   "outputs": [
    {
     "name": "stdout",
     "output_type": "stream",
     "text": [
      "1\n",
      "3\n"
     ]
    }
   ],
   "source": [
    "print(min(1, 2, 3))\n",
    "print(max(1, 2, 3))"
   ]
  },
  {
   "cell_type": "markdown",
   "id": "30db6d3c",
   "metadata": {
    "papermill": {
     "duration": 0.007971,
     "end_time": "2025-01-24T18:15:56.898848",
     "exception": false,
     "start_time": "2025-01-24T18:15:56.890877",
     "status": "completed"
    },
    "tags": []
   },
   "source": [
    "`abs` returns the absolute value of an argument:"
   ]
  },
  {
   "cell_type": "code",
   "execution_count": 17,
   "id": "27ca37ee",
   "metadata": {
    "collapsed": true,
    "execution": {
     "iopub.execute_input": "2025-01-24T18:15:56.916156Z",
     "iopub.status.busy": "2025-01-24T18:15:56.915716Z",
     "iopub.status.idle": "2025-01-24T18:15:56.921354Z",
     "shell.execute_reply": "2025-01-24T18:15:56.920172Z"
    },
    "jupyter": {
     "outputs_hidden": true
    },
    "papermill": {
     "duration": 0.016155,
     "end_time": "2025-01-24T18:15:56.923130",
     "exception": false,
     "start_time": "2025-01-24T18:15:56.906975",
     "status": "completed"
    },
    "tags": []
   },
   "outputs": [
    {
     "name": "stdout",
     "output_type": "stream",
     "text": [
      "32\n",
      "32\n"
     ]
    }
   ],
   "source": [
    "print(abs(32))\n",
    "print(abs(-32))"
   ]
  },
  {
   "cell_type": "markdown",
   "id": "65b71968",
   "metadata": {
    "papermill": {
     "duration": 0.008278,
     "end_time": "2025-01-24T18:15:56.939782",
     "exception": false,
     "start_time": "2025-01-24T18:15:56.931504",
     "status": "completed"
    },
    "tags": []
   },
   "source": [
    "In addition to being the names of Python's two main numerical types, `int` and `float` can also be called as functions which convert their arguments to the corresponding type:"
   ]
  },
  {
   "cell_type": "code",
   "execution_count": 18,
   "id": "1b34954c",
   "metadata": {
    "collapsed": true,
    "execution": {
     "iopub.execute_input": "2025-01-24T18:15:56.957480Z",
     "iopub.status.busy": "2025-01-24T18:15:56.957114Z",
     "iopub.status.idle": "2025-01-24T18:15:56.963086Z",
     "shell.execute_reply": "2025-01-24T18:15:56.961862Z"
    },
    "jupyter": {
     "outputs_hidden": true
    },
    "papermill": {
     "duration": 0.017081,
     "end_time": "2025-01-24T18:15:56.964996",
     "exception": false,
     "start_time": "2025-01-24T18:15:56.947915",
     "status": "completed"
    },
    "tags": []
   },
   "outputs": [
    {
     "name": "stdout",
     "output_type": "stream",
     "text": [
      "10.0\n",
      "3\n",
      "808\n"
     ]
    }
   ],
   "source": [
    "print(float(10))\n",
    "print(int(3.33))\n",
    "# They can even be called on strings!\n",
    "print(int('807') + 1)"
   ]
  },
  {
   "cell_type": "markdown",
   "id": "47a4320f",
   "metadata": {
    "papermill": {
     "duration": 0.008169,
     "end_time": "2025-01-24T18:15:56.981948",
     "exception": false,
     "start_time": "2025-01-24T18:15:56.973779",
     "status": "completed"
    },
    "tags": []
   },
   "source": [
    "# Your Turn\n",
    "\n",
    "Now is your chance. Try your **[first Python programming exercise](https://www.kaggle.com/kernels/fork/1275163)**!"
   ]
  },
  {
   "cell_type": "markdown",
   "id": "75e8e326",
   "metadata": {
    "papermill": {
     "duration": 0.007966,
     "end_time": "2025-01-24T18:15:56.998282",
     "exception": false,
     "start_time": "2025-01-24T18:15:56.990316",
     "status": "completed"
    },
    "tags": []
   },
   "source": [
    "---\n",
    "\n",
    "\n",
    "\n",
    "\n",
    "*Have questions or comments? Visit the [course discussion forum](https://www.kaggle.com/learn/python/discussion) to chat with other learners.*"
   ]
  }
 ],
 "metadata": {
  "anaconda-cloud": {},
  "celltoolbar": "Edit Metadata",
  "kaggle": {
   "accelerator": "none",
   "dataSources": [],
   "isGpuEnabled": false,
   "isInternetEnabled": false,
   "language": "python",
   "sourceType": "notebook"
  },
  "kernelspec": {
   "display_name": "Python 3",
   "language": "python",
   "name": "python3"
  },
  "language_info": {
   "codemirror_mode": {
    "name": "ipython",
    "version": 3
   },
   "file_extension": ".py",
   "mimetype": "text/x-python",
   "name": "python",
   "nbconvert_exporter": "python",
   "pygments_lexer": "ipython3",
   "version": "3.10.12"
  },
  "learntools_metadata": {
   "lesson_index": 0,
   "type": "tutorial"
  },
  "papermill": {
   "default_parameters": {},
   "duration": 4.206451,
   "end_time": "2025-01-24T18:15:57.528099",
   "environment_variables": {},
   "exception": null,
   "input_path": "__notebook__.ipynb",
   "output_path": "__notebook__.ipynb",
   "parameters": {},
   "start_time": "2025-01-24T18:15:53.321648",
   "version": "2.6.0"
  }
 },
 "nbformat": 4,
 "nbformat_minor": 5
}
