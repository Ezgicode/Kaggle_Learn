{
 "cells": [
  {
   "cell_type": "markdown",
   "id": "fd7d0ace",
   "metadata": {
    "papermill": {
     "duration": 0.008418,
     "end_time": "2025-01-24T18:40:24.585786",
     "exception": false,
     "start_time": "2025-01-24T18:40:24.577368",
     "status": "completed"
    },
    "tags": []
   },
   "source": [
    "This course covers the key Python skills you’ll need so you can start using Python for data science. The course is ideal for someone with some previous coding experience who wants to add Python to their repertoire. (If you're a first-time coder, you are encouraged to check out our [Intro to Programming course](https://www.kaggle.com/learn/intro-to-programming), which is designed for complete beginners who would like to get started with Python.)\n",
    "\n",
    "We'll start with a brief overview of Python syntax, variable assignment, and arithmetic operators. "
   ]
  },
  {
   "cell_type": "markdown",
   "id": "24c9a862",
   "metadata": {
    "papermill": {
     "duration": 0.006126,
     "end_time": "2025-01-24T18:40:24.598659",
     "exception": false,
     "start_time": "2025-01-24T18:40:24.592533",
     "status": "completed"
    },
    "tags": []
   },
   "source": [
    "# Hello, Python!\n",
    "\n",
    "Python was named for the British comedy troupe [Monty Python](https://en.wikipedia.org/wiki/Monty_Python), so we'll make our first Python program a homage to their skit about [Spam](https://bit.ly/3MwwjSs).\n",
    "\n",
    "Just for fun, try reading over the code below and predicting what it's going to do when run. (If you have no idea, that's fine!)\n",
    "\n",
    "Then click the \"output\" button to see the results of our program."
   ]
  },
  {
   "cell_type": "code",
   "execution_count": 1,
   "id": "34ce29f9",
   "metadata": {
    "_kg_hide-output": true,
    "execution": {
     "iopub.execute_input": "2025-01-24T18:40:24.612981Z",
     "iopub.status.busy": "2025-01-24T18:40:24.612531Z",
     "iopub.status.idle": "2025-01-24T18:40:24.620171Z",
     "shell.execute_reply": "2025-01-24T18:40:24.619162Z"
    },
    "papermill": {
     "duration": 0.016726,
     "end_time": "2025-01-24T18:40:24.621848",
     "exception": false,
     "start_time": "2025-01-24T18:40:24.605122",
     "status": "completed"
    },
    "tags": []
   },
   "outputs": [
    {
     "name": "stdout",
     "output_type": "stream",
     "text": [
      "0\n",
      "But I don't want ANY spam!\n",
      "Spam Spam Spam Spam \n"
     ]
    }
   ],
   "source": [
    "spam_amount = 0\n",
    "print(spam_amount)\n",
    "\n",
    "# Ordering Spam, egg, Spam, Spam, bacon and Spam (4 more servings of Spam)\n",
    "spam_amount = spam_amount + 4\n",
    "\n",
    "if spam_amount > 0:\n",
    "    print(\"But I don't want ANY spam!\")\n",
    "\n",
    "viking_song = \"Spam \" * spam_amount\n",
    "print(viking_song)"
   ]
  },
  {
   "cell_type": "markdown",
   "id": "014c89a3",
   "metadata": {
    "papermill": {
     "duration": 0.006436,
     "end_time": "2025-01-24T18:40:24.635226",
     "exception": false,
     "start_time": "2025-01-24T18:40:24.628790",
     "status": "completed"
    },
    "tags": []
   },
   "source": [
    "There's a lot to unpack here! This silly program demonstrates many important aspects of what Python code looks like and how it works. Let's review the code from top to bottom."
   ]
  },
  {
   "cell_type": "code",
   "execution_count": 2,
   "id": "a2ec2f55",
   "metadata": {
    "collapsed": true,
    "execution": {
     "iopub.execute_input": "2025-01-24T18:40:24.650316Z",
     "iopub.status.busy": "2025-01-24T18:40:24.649902Z",
     "iopub.status.idle": "2025-01-24T18:40:24.654145Z",
     "shell.execute_reply": "2025-01-24T18:40:24.652928Z"
    },
    "jupyter": {
     "outputs_hidden": true
    },
    "papermill": {
     "duration": 0.014073,
     "end_time": "2025-01-24T18:40:24.655914",
     "exception": false,
     "start_time": "2025-01-24T18:40:24.641841",
     "status": "completed"
    },
    "tags": []
   },
   "outputs": [],
   "source": [
    "spam_amount = 0"
   ]
  },
  {
   "cell_type": "markdown",
   "id": "cff416eb",
   "metadata": {
    "papermill": {
     "duration": 0.00642,
     "end_time": "2025-01-24T18:40:24.669616",
     "exception": false,
     "start_time": "2025-01-24T18:40:24.663196",
     "status": "completed"
    },
    "tags": []
   },
   "source": [
    "**Variable assignment:** Here we create a variable called `spam_amount` and assign it the value of 0 using `=`, which is called the assignment operator.\n",
    "\n",
    "> **Note**: If you've programmed in certain other languages (like Java or C++), you might be noticing some things Python *doesn't* require us to do here:  \n",
    "- we don't need to \"declare\" `spam_amount` before assigning to it\n",
    "- we don't need to tell Python what type of value `spam_amount` is going to refer to. In fact, we can even go on to reassign `spam_amount` to refer to a different sort of thing like a string or a boolean."
   ]
  },
  {
   "cell_type": "code",
   "execution_count": 3,
   "id": "fb2fcb41",
   "metadata": {
    "_kg_hide-output": false,
    "collapsed": true,
    "execution": {
     "iopub.execute_input": "2025-01-24T18:40:24.684064Z",
     "iopub.status.busy": "2025-01-24T18:40:24.683662Z",
     "iopub.status.idle": "2025-01-24T18:40:24.688540Z",
     "shell.execute_reply": "2025-01-24T18:40:24.687322Z"
    },
    "jupyter": {
     "outputs_hidden": true
    },
    "papermill": {
     "duration": 0.013902,
     "end_time": "2025-01-24T18:40:24.690135",
     "exception": false,
     "start_time": "2025-01-24T18:40:24.676233",
     "status": "completed"
    },
    "tags": []
   },
   "outputs": [
    {
     "name": "stdout",
     "output_type": "stream",
     "text": [
      "0\n"
     ]
    }
   ],
   "source": [
    "print(spam_amount)"
   ]
  },
  {
   "cell_type": "markdown",
   "id": "4e704b6d",
   "metadata": {
    "papermill": {
     "duration": 0.006575,
     "end_time": "2025-01-24T18:40:24.703686",
     "exception": false,
     "start_time": "2025-01-24T18:40:24.697111",
     "status": "completed"
    },
    "tags": []
   },
   "source": [
    "**Function calls:**. `print` is a Python function that displays the value passed to it on the screen. We call functions by putting parentheses after their name, and putting the inputs (or *arguments*) to the function in those parentheses."
   ]
  },
  {
   "cell_type": "code",
   "execution_count": 4,
   "id": "60454672",
   "metadata": {
    "_kg_hide-output": false,
    "collapsed": true,
    "execution": {
     "iopub.execute_input": "2025-01-24T18:40:24.718550Z",
     "iopub.status.busy": "2025-01-24T18:40:24.718231Z",
     "iopub.status.idle": "2025-01-24T18:40:24.721981Z",
     "shell.execute_reply": "2025-01-24T18:40:24.720967Z"
    },
    "jupyter": {
     "outputs_hidden": true
    },
    "papermill": {
     "duration": 0.01299,
     "end_time": "2025-01-24T18:40:24.723484",
     "exception": false,
     "start_time": "2025-01-24T18:40:24.710494",
     "status": "completed"
    },
    "tags": []
   },
   "outputs": [],
   "source": [
    "# Ordering Spam, egg, Spam, Spam, bacon and Spam (4 more servings of Spam)\n",
    "spam_amount = spam_amount + 4"
   ]
  },
  {
   "cell_type": "markdown",
   "id": "ce9f75d0",
   "metadata": {
    "papermill": {
     "duration": 0.006487,
     "end_time": "2025-01-24T18:40:24.736949",
     "exception": false,
     "start_time": "2025-01-24T18:40:24.730462",
     "status": "completed"
    },
    "tags": []
   },
   "source": [
    "The first line above is a **comment**. In Python, comments begin with the `#` symbol.\n",
    "\n",
    "Next we see an example of reassignment. Reassigning the value of an existing variable looks just the same as creating a variable - it still uses the `=` assignment operator.\n",
    "\n",
    "In this case, the value we're assigning to `spam_amount` involves some simple arithmetic on its previous value. When it encounters this line, Python evaluates the expression on the right-hand-side of the `=` (0 + 4 = 4), and then assigns that value to the variable on the left-hand-side."
   ]
  },
  {
   "cell_type": "code",
   "execution_count": 5,
   "id": "84896768",
   "metadata": {
    "_kg_hide-output": false,
    "collapsed": true,
    "execution": {
     "iopub.execute_input": "2025-01-24T18:40:24.751579Z",
     "iopub.status.busy": "2025-01-24T18:40:24.751274Z",
     "iopub.status.idle": "2025-01-24T18:40:24.755648Z",
     "shell.execute_reply": "2025-01-24T18:40:24.754647Z"
    },
    "jupyter": {
     "outputs_hidden": true
    },
    "papermill": {
     "duration": 0.013684,
     "end_time": "2025-01-24T18:40:24.757340",
     "exception": false,
     "start_time": "2025-01-24T18:40:24.743656",
     "status": "completed"
    },
    "tags": []
   },
   "outputs": [
    {
     "name": "stdout",
     "output_type": "stream",
     "text": [
      "But I don't want ANY spam!\n",
      "Spam Spam Spam\n"
     ]
    }
   ],
   "source": [
    "if spam_amount > 0:\n",
    "    print(\"But I don't want ANY spam!\")\n",
    "\n",
    "viking_song = \"Spam Spam Spam\"\n",
    "print(viking_song)"
   ]
  },
  {
   "cell_type": "markdown",
   "id": "819bb474",
   "metadata": {
    "papermill": {
     "duration": 0.006612,
     "end_time": "2025-01-24T18:40:24.771066",
     "exception": false,
     "start_time": "2025-01-24T18:40:24.764454",
     "status": "completed"
    },
    "tags": []
   },
   "source": [
    "We won't talk much about \"conditionals\" until later, but, even if you've never coded before, you can probably guess what this does. Python is prized for its readability and the simplicity. \n",
    "\n",
    "Note how we indicated which code belongs to the `if`. `\"But I don't want ANY spam!\"` is only supposed to be printed if `spam_amount` is positive. But the later code (like `print(viking_song)`) should be executed no matter what. How do we (and Python) know that?\n",
    "\n",
    "The colon (`:`) at the end of the `if` line indicates that a new **code block** is starting. Subsequent lines which are indented are part of that code block. \n",
    "> **Note**: If you've coded before, you might know that some other languages use `{`curly braces`}` to mark the beginning and end of code blocks. Python's use of meaningful whitespace can be surprising to programmers who are accustomed to other languages, but in practice it can lead to more consistent and readable code than languages that do not enforce indentation of code blocks. \n",
    "\n",
    "The later lines dealing with `viking_song` are not indented with an extra 4 spaces, so they're not a part of the `if`'s code block. We'll see more examples of indented code blocks later when we define functions and using loops.\n",
    "\n",
    "This code snippet is also our first sighting of a **string** in Python:\n",
    "\n",
    "```python\n",
    "\"But I don't want ANY spam!\"\n",
    "```\n",
    "\n",
    "Strings can be marked either by double or single quotation marks. (But because this particular string *contains* a single-quote character, we might confuse Python by trying to surround it with single-quotes, unless we're careful.)"
   ]
  },
  {
   "cell_type": "code",
   "execution_count": 6,
   "id": "ce3d34c0",
   "metadata": {
    "_kg_hide-output": false,
    "collapsed": true,
    "execution": {
     "iopub.execute_input": "2025-01-24T18:40:24.786375Z",
     "iopub.status.busy": "2025-01-24T18:40:24.786007Z",
     "iopub.status.idle": "2025-01-24T18:40:24.790775Z",
     "shell.execute_reply": "2025-01-24T18:40:24.789796Z"
    },
    "jupyter": {
     "outputs_hidden": true
    },
    "papermill": {
     "duration": 0.014326,
     "end_time": "2025-01-24T18:40:24.792479",
     "exception": false,
     "start_time": "2025-01-24T18:40:24.778153",
     "status": "completed"
    },
    "tags": []
   },
   "outputs": [
    {
     "name": "stdout",
     "output_type": "stream",
     "text": [
      "Spam Spam Spam Spam \n"
     ]
    }
   ],
   "source": [
    "viking_song = \"Spam \" * spam_amount\n",
    "print(viking_song)"
   ]
  },
  {
   "cell_type": "markdown",
   "id": "3256c6c8",
   "metadata": {
    "papermill": {
     "duration": 0.006669,
     "end_time": "2025-01-24T18:40:24.806254",
     "exception": false,
     "start_time": "2025-01-24T18:40:24.799585",
     "status": "completed"
    },
    "tags": []
   },
   "source": [
    "The `*` operator can be used to multiply two numbers (`3 * 3` evaluates to 9), but we can also multiply a string by a number, to get a version that's been repeated that many times. Python offers a number of cheeky little time-saving tricks like this where operators like `*` and `+` have a different meaning depending on what kind of thing they're applied to. (The technical term for this is [operator overloading](https://en.wikipedia.org/wiki/Operator_overloading).)"
   ]
  },
  {
   "cell_type": "markdown",
   "id": "c02426a2",
   "metadata": {
    "papermill": {
     "duration": 0.006719,
     "end_time": "2025-01-24T18:40:24.820028",
     "exception": false,
     "start_time": "2025-01-24T18:40:24.813309",
     "status": "completed"
    },
    "tags": []
   },
   "source": [
    "## Numbers and arithmetic in Python\n",
    "\n",
    "We've already seen an example of a variable containing a number above:"
   ]
  },
  {
   "cell_type": "code",
   "execution_count": 7,
   "id": "02e87b02",
   "metadata": {
    "collapsed": true,
    "execution": {
     "iopub.execute_input": "2025-01-24T18:40:24.835360Z",
     "iopub.status.busy": "2025-01-24T18:40:24.835028Z",
     "iopub.status.idle": "2025-01-24T18:40:24.839043Z",
     "shell.execute_reply": "2025-01-24T18:40:24.837972Z"
    },
    "jupyter": {
     "outputs_hidden": true
    },
    "papermill": {
     "duration": 0.013536,
     "end_time": "2025-01-24T18:40:24.840656",
     "exception": false,
     "start_time": "2025-01-24T18:40:24.827120",
     "status": "completed"
    },
    "tags": []
   },
   "outputs": [],
   "source": [
    "spam_amount = 0"
   ]
  },
  {
   "cell_type": "markdown",
   "id": "f60ccf92",
   "metadata": {
    "papermill": {
     "duration": 0.006735,
     "end_time": "2025-01-24T18:40:24.854848",
     "exception": false,
     "start_time": "2025-01-24T18:40:24.848113",
     "status": "completed"
    },
    "tags": []
   },
   "source": [
    "\"Number\" is a fine informal name for the kind of thing, but if we wanted to be more technical, we could ask Python how it would describe the type of thing that `spam_amount` is:"
   ]
  },
  {
   "cell_type": "code",
   "execution_count": 8,
   "id": "e3701db9",
   "metadata": {
    "collapsed": true,
    "execution": {
     "iopub.execute_input": "2025-01-24T18:40:24.870362Z",
     "iopub.status.busy": "2025-01-24T18:40:24.870000Z",
     "iopub.status.idle": "2025-01-24T18:40:24.876943Z",
     "shell.execute_reply": "2025-01-24T18:40:24.875790Z"
    },
    "jupyter": {
     "outputs_hidden": true
    },
    "papermill": {
     "duration": 0.01678,
     "end_time": "2025-01-24T18:40:24.878833",
     "exception": false,
     "start_time": "2025-01-24T18:40:24.862053",
     "status": "completed"
    },
    "tags": []
   },
   "outputs": [
    {
     "data": {
      "text/plain": [
       "int"
      ]
     },
     "execution_count": 8,
     "metadata": {},
     "output_type": "execute_result"
    }
   ],
   "source": [
    "type(spam_amount)"
   ]
  },
  {
   "cell_type": "markdown",
   "id": "004645df",
   "metadata": {
    "papermill": {
     "duration": 0.007093,
     "end_time": "2025-01-24T18:40:24.893788",
     "exception": false,
     "start_time": "2025-01-24T18:40:24.886695",
     "status": "completed"
    },
    "tags": []
   },
   "source": [
    "It's an `int` - short for integer. There's another sort of number we commonly encounter in Python:"
   ]
  },
  {
   "cell_type": "code",
   "execution_count": 9,
   "id": "1ca7c843",
   "metadata": {
    "collapsed": true,
    "execution": {
     "iopub.execute_input": "2025-01-24T18:40:24.909664Z",
     "iopub.status.busy": "2025-01-24T18:40:24.909304Z",
     "iopub.status.idle": "2025-01-24T18:40:24.915009Z",
     "shell.execute_reply": "2025-01-24T18:40:24.913996Z"
    },
    "jupyter": {
     "outputs_hidden": true
    },
    "papermill": {
     "duration": 0.015336,
     "end_time": "2025-01-24T18:40:24.916669",
     "exception": false,
     "start_time": "2025-01-24T18:40:24.901333",
     "status": "completed"
    },
    "tags": []
   },
   "outputs": [
    {
     "data": {
      "text/plain": [
       "float"
      ]
     },
     "execution_count": 9,
     "metadata": {},
     "output_type": "execute_result"
    }
   ],
   "source": [
    "type(19.95)"
   ]
  },
  {
   "cell_type": "markdown",
   "id": "7bef08fd",
   "metadata": {
    "papermill": {
     "duration": 0.007339,
     "end_time": "2025-01-24T18:40:24.931649",
     "exception": false,
     "start_time": "2025-01-24T18:40:24.924310",
     "status": "completed"
    },
    "tags": []
   },
   "source": [
    "A `float` is a number with a decimal place - very useful for representing things like weights or proportions.\n",
    "\n",
    "`type()` is the second built-in function we've seen (after `print()`), and it's another good one to remember. It's very useful to be able to ask Python \"what kind of thing is this?\". "
   ]
  },
  {
   "cell_type": "markdown",
   "id": "474e450b",
   "metadata": {
    "papermill": {
     "duration": 0.007072,
     "end_time": "2025-01-24T18:40:24.946344",
     "exception": false,
     "start_time": "2025-01-24T18:40:24.939272",
     "status": "completed"
    },
    "tags": []
   },
   "source": [
    "A natural thing to want to do with numbers is perform arithmetic. We've seen the `+` operator for addition, and the `*` operator for multiplication. Python also has us covered for the rest of the basic buttons on your calculator:\n",
    "\n",
    "| Operator     | Name           | Description                                            |\n",
    "|--------------|----------------|--------------------------------------------------------|\n",
    "| ``a + b``    | Addition       | Sum of ``a`` and ``b``                                 |\n",
    "| ``a - b``    | Subtraction    | Difference of ``a`` and ``b``                          |\n",
    "| ``a * b``    | Multiplication | Product of ``a`` and ``b``                             |\n",
    "| ``a / b``    | True division  | Quotient of ``a`` and ``b``                            |\n",
    "| ``a // b``   | Floor division | Quotient of ``a`` and ``b``, removing fractional parts |\n",
    "| ``a % b``    | Modulus        | Integer remainder after division of ``a`` by ``b``     |\n",
    "| ``a ** b``   | Exponentiation | ``a`` raised to the power of ``b``                     |\n",
    "| ``-a``       | Negation       | The negative of ``a``                                  |\n",
    "\n",
    "<span style=\"display:none\"></span>\n",
    "\n",
    "One interesting observation here is that, whereas your calculator probably just has one button for division, Python can do two kinds. \"True division\" is basically what your calculator does:"
   ]
  },
  {
   "cell_type": "code",
   "execution_count": 10,
   "id": "2b59ee8f",
   "metadata": {
    "collapsed": true,
    "execution": {
     "iopub.execute_input": "2025-01-24T18:40:24.962540Z",
     "iopub.status.busy": "2025-01-24T18:40:24.962205Z",
     "iopub.status.idle": "2025-01-24T18:40:24.967613Z",
     "shell.execute_reply": "2025-01-24T18:40:24.966533Z"
    },
    "jupyter": {
     "outputs_hidden": true
    },
    "papermill": {
     "duration": 0.015429,
     "end_time": "2025-01-24T18:40:24.969274",
     "exception": false,
     "start_time": "2025-01-24T18:40:24.953845",
     "status": "completed"
    },
    "tags": []
   },
   "outputs": [
    {
     "name": "stdout",
     "output_type": "stream",
     "text": [
      "2.5\n",
      "3.0\n"
     ]
    }
   ],
   "source": [
    "print(5 / 2)\n",
    "print(6 / 2)"
   ]
  },
  {
   "cell_type": "markdown",
   "id": "055e64af",
   "metadata": {
    "papermill": {
     "duration": 0.007419,
     "end_time": "2025-01-24T18:40:24.984626",
     "exception": false,
     "start_time": "2025-01-24T18:40:24.977207",
     "status": "completed"
    },
    "tags": []
   },
   "source": [
    "It always gives us a `float`. \n",
    "\n",
    "The `//` operator gives us a result that's rounded down to the next integer."
   ]
  },
  {
   "cell_type": "code",
   "execution_count": 11,
   "id": "3b0593fb",
   "metadata": {
    "collapsed": true,
    "execution": {
     "iopub.execute_input": "2025-01-24T18:40:25.000934Z",
     "iopub.status.busy": "2025-01-24T18:40:25.000518Z",
     "iopub.status.idle": "2025-01-24T18:40:25.005987Z",
     "shell.execute_reply": "2025-01-24T18:40:25.004779Z"
    },
    "jupyter": {
     "outputs_hidden": true
    },
    "papermill": {
     "duration": 0.01535,
     "end_time": "2025-01-24T18:40:25.007575",
     "exception": false,
     "start_time": "2025-01-24T18:40:24.992225",
     "status": "completed"
    },
    "tags": []
   },
   "outputs": [
    {
     "name": "stdout",
     "output_type": "stream",
     "text": [
      "2\n",
      "3\n"
     ]
    }
   ],
   "source": [
    "print(5 // 2)\n",
    "print(6 // 2)"
   ]
  },
  {
   "cell_type": "markdown",
   "id": "b08d52e0",
   "metadata": {
    "papermill": {
     "duration": 0.007271,
     "end_time": "2025-01-24T18:40:25.023038",
     "exception": false,
     "start_time": "2025-01-24T18:40:25.015767",
     "status": "completed"
    },
    "tags": []
   },
   "source": [
    "Can you think of where this would be useful? You'll see an example soon in the coding challenges."
   ]
  },
  {
   "cell_type": "markdown",
   "id": "679e225c",
   "metadata": {
    "papermill": {
     "duration": 0.007229,
     "end_time": "2025-01-24T18:40:25.038017",
     "exception": false,
     "start_time": "2025-01-24T18:40:25.030788",
     "status": "completed"
    },
    "tags": []
   },
   "source": [
    "### Order of operations\n",
    "\n",
    "The arithmetic we learned in primary school has conventions about the order in which operations are evaluated. Some remember these by a mnemonic such as **PEMDAS** - **P**arentheses, **E**xponents, **M**ultiplication/**D**ivision, **A**ddition/**S**ubtraction.\n",
    "\n",
    "Python follows similar rules about which calculations to perform first. They're mostly pretty intuitive."
   ]
  },
  {
   "cell_type": "code",
   "execution_count": 12,
   "id": "233f48af",
   "metadata": {
    "collapsed": true,
    "execution": {
     "iopub.execute_input": "2025-01-24T18:40:25.055623Z",
     "iopub.status.busy": "2025-01-24T18:40:25.055254Z",
     "iopub.status.idle": "2025-01-24T18:40:25.061022Z",
     "shell.execute_reply": "2025-01-24T18:40:25.059801Z"
    },
    "jupyter": {
     "outputs_hidden": true
    },
    "papermill": {
     "duration": 0.016633,
     "end_time": "2025-01-24T18:40:25.062943",
     "exception": false,
     "start_time": "2025-01-24T18:40:25.046310",
     "status": "completed"
    },
    "tags": []
   },
   "outputs": [
    {
     "data": {
      "text/plain": [
       "7"
      ]
     },
     "execution_count": 12,
     "metadata": {},
     "output_type": "execute_result"
    }
   ],
   "source": [
    "8 - 3 + 2"
   ]
  },
  {
   "cell_type": "code",
   "execution_count": 13,
   "id": "e5cf1a71",
   "metadata": {
    "collapsed": true,
    "execution": {
     "iopub.execute_input": "2025-01-24T18:40:25.080346Z",
     "iopub.status.busy": "2025-01-24T18:40:25.079985Z",
     "iopub.status.idle": "2025-01-24T18:40:25.085615Z",
     "shell.execute_reply": "2025-01-24T18:40:25.084543Z"
    },
    "jupyter": {
     "outputs_hidden": true
    },
    "papermill": {
     "duration": 0.015971,
     "end_time": "2025-01-24T18:40:25.087243",
     "exception": false,
     "start_time": "2025-01-24T18:40:25.071272",
     "status": "completed"
    },
    "tags": []
   },
   "outputs": [
    {
     "data": {
      "text/plain": [
       "5"
      ]
     },
     "execution_count": 13,
     "metadata": {},
     "output_type": "execute_result"
    }
   ],
   "source": [
    "-3 + 4 * 2"
   ]
  },
  {
   "cell_type": "markdown",
   "id": "0ea8aa0c",
   "metadata": {
    "papermill": {
     "duration": 0.007504,
     "end_time": "2025-01-24T18:40:25.102666",
     "exception": false,
     "start_time": "2025-01-24T18:40:25.095162",
     "status": "completed"
    },
    "tags": []
   },
   "source": [
    "Sometimes the default order of operations isn't what we want:"
   ]
  },
  {
   "cell_type": "code",
   "execution_count": 14,
   "id": "a8e36ff3",
   "metadata": {
    "collapsed": true,
    "execution": {
     "iopub.execute_input": "2025-01-24T18:40:25.119604Z",
     "iopub.status.busy": "2025-01-24T18:40:25.119267Z",
     "iopub.status.idle": "2025-01-24T18:40:25.125087Z",
     "shell.execute_reply": "2025-01-24T18:40:25.123967Z"
    },
    "jupyter": {
     "outputs_hidden": true
    },
    "papermill": {
     "duration": 0.016105,
     "end_time": "2025-01-24T18:40:25.126596",
     "exception": false,
     "start_time": "2025-01-24T18:40:25.110491",
     "status": "completed"
    },
    "tags": []
   },
   "outputs": [
    {
     "name": "stdout",
     "output_type": "stream",
     "text": [
      "Height in meters = 26.9 ?\n"
     ]
    }
   ],
   "source": [
    "hat_height_cm = 25\n",
    "my_height_cm = 190\n",
    "# How tall am I, in meters, when wearing my hat?\n",
    "total_height_meters = hat_height_cm + my_height_cm / 100\n",
    "print(\"Height in meters =\", total_height_meters, \"?\")"
   ]
  },
  {
   "cell_type": "markdown",
   "id": "fc96d0cf",
   "metadata": {
    "papermill": {
     "duration": 0.007719,
     "end_time": "2025-01-24T18:40:25.143045",
     "exception": false,
     "start_time": "2025-01-24T18:40:25.135326",
     "status": "completed"
    },
    "tags": []
   },
   "source": [
    "Parentheses are useful here. You can add them to force Python to evaluate sub-expressions in whatever order you want."
   ]
  },
  {
   "cell_type": "code",
   "execution_count": 15,
   "id": "50f4254c",
   "metadata": {
    "collapsed": true,
    "execution": {
     "iopub.execute_input": "2025-01-24T18:40:25.159957Z",
     "iopub.status.busy": "2025-01-24T18:40:25.159575Z",
     "iopub.status.idle": "2025-01-24T18:40:25.164814Z",
     "shell.execute_reply": "2025-01-24T18:40:25.163670Z"
    },
    "jupyter": {
     "outputs_hidden": true
    },
    "papermill": {
     "duration": 0.015487,
     "end_time": "2025-01-24T18:40:25.166461",
     "exception": false,
     "start_time": "2025-01-24T18:40:25.150974",
     "status": "completed"
    },
    "tags": []
   },
   "outputs": [
    {
     "name": "stdout",
     "output_type": "stream",
     "text": [
      "Height in meters = 2.15\n"
     ]
    }
   ],
   "source": [
    "total_height_meters = (hat_height_cm + my_height_cm) / 100\n",
    "print(\"Height in meters =\", total_height_meters)"
   ]
  },
  {
   "cell_type": "markdown",
   "id": "7a82ad7f",
   "metadata": {
    "papermill": {
     "duration": 0.007549,
     "end_time": "2025-01-24T18:40:25.182191",
     "exception": false,
     "start_time": "2025-01-24T18:40:25.174642",
     "status": "completed"
    },
    "tags": []
   },
   "source": [
    "### Builtin functions for working with numbers\n",
    "\n",
    "`min` and `max` return the minimum and maximum of their arguments, respectively..."
   ]
  },
  {
   "cell_type": "code",
   "execution_count": 16,
   "id": "4f4b6acd",
   "metadata": {
    "collapsed": true,
    "execution": {
     "iopub.execute_input": "2025-01-24T18:40:25.199423Z",
     "iopub.status.busy": "2025-01-24T18:40:25.199065Z",
     "iopub.status.idle": "2025-01-24T18:40:25.204405Z",
     "shell.execute_reply": "2025-01-24T18:40:25.203249Z"
    },
    "jupyter": {
     "outputs_hidden": true
    },
    "papermill": {
     "duration": 0.015962,
     "end_time": "2025-01-24T18:40:25.206112",
     "exception": false,
     "start_time": "2025-01-24T18:40:25.190150",
     "status": "completed"
    },
    "tags": []
   },
   "outputs": [
    {
     "name": "stdout",
     "output_type": "stream",
     "text": [
      "1\n",
      "3\n"
     ]
    }
   ],
   "source": [
    "print(min(1, 2, 3))\n",
    "print(max(1, 2, 3))"
   ]
  },
  {
   "cell_type": "markdown",
   "id": "6f0b5a94",
   "metadata": {
    "papermill": {
     "duration": 0.007755,
     "end_time": "2025-01-24T18:40:25.222124",
     "exception": false,
     "start_time": "2025-01-24T18:40:25.214369",
     "status": "completed"
    },
    "tags": []
   },
   "source": [
    "`abs` returns the absolute value of an argument:"
   ]
  },
  {
   "cell_type": "code",
   "execution_count": 17,
   "id": "b31798cb",
   "metadata": {
    "collapsed": true,
    "execution": {
     "iopub.execute_input": "2025-01-24T18:40:25.239463Z",
     "iopub.status.busy": "2025-01-24T18:40:25.239115Z",
     "iopub.status.idle": "2025-01-24T18:40:25.243999Z",
     "shell.execute_reply": "2025-01-24T18:40:25.243043Z"
    },
    "jupyter": {
     "outputs_hidden": true
    },
    "papermill": {
     "duration": 0.01528,
     "end_time": "2025-01-24T18:40:25.245549",
     "exception": false,
     "start_time": "2025-01-24T18:40:25.230269",
     "status": "completed"
    },
    "tags": []
   },
   "outputs": [
    {
     "name": "stdout",
     "output_type": "stream",
     "text": [
      "32\n",
      "32\n"
     ]
    }
   ],
   "source": [
    "print(abs(32))\n",
    "print(abs(-32))"
   ]
  },
  {
   "cell_type": "markdown",
   "id": "b0fa59dc",
   "metadata": {
    "papermill": {
     "duration": 0.007808,
     "end_time": "2025-01-24T18:40:25.261809",
     "exception": false,
     "start_time": "2025-01-24T18:40:25.254001",
     "status": "completed"
    },
    "tags": []
   },
   "source": [
    "In addition to being the names of Python's two main numerical types, `int` and `float` can also be called as functions which convert their arguments to the corresponding type:"
   ]
  },
  {
   "cell_type": "code",
   "execution_count": 18,
   "id": "c07732d4",
   "metadata": {
    "collapsed": true,
    "execution": {
     "iopub.execute_input": "2025-01-24T18:40:25.279408Z",
     "iopub.status.busy": "2025-01-24T18:40:25.279061Z",
     "iopub.status.idle": "2025-01-24T18:40:25.284374Z",
     "shell.execute_reply": "2025-01-24T18:40:25.283236Z"
    },
    "jupyter": {
     "outputs_hidden": true
    },
    "papermill": {
     "duration": 0.015893,
     "end_time": "2025-01-24T18:40:25.286060",
     "exception": false,
     "start_time": "2025-01-24T18:40:25.270167",
     "status": "completed"
    },
    "tags": []
   },
   "outputs": [
    {
     "name": "stdout",
     "output_type": "stream",
     "text": [
      "10.0\n",
      "3\n",
      "808\n"
     ]
    }
   ],
   "source": [
    "print(float(10))\n",
    "print(int(3.33))\n",
    "# They can even be called on strings!\n",
    "print(int('807') + 1)"
   ]
  },
  {
   "cell_type": "markdown",
   "id": "80b28c6a",
   "metadata": {
    "papermill": {
     "duration": 0.007884,
     "end_time": "2025-01-24T18:40:25.302349",
     "exception": false,
     "start_time": "2025-01-24T18:40:25.294465",
     "status": "completed"
    },
    "tags": []
   },
   "source": [
    "# Your Turn\n",
    "\n",
    "Now is your chance. Try your **[first Python programming exercise](https://www.kaggle.com/kernels/fork/1275163)**!"
   ]
  },
  {
   "cell_type": "markdown",
   "id": "52825bd3",
   "metadata": {
    "papermill": {
     "duration": 0.008007,
     "end_time": "2025-01-24T18:40:25.318654",
     "exception": false,
     "start_time": "2025-01-24T18:40:25.310647",
     "status": "completed"
    },
    "tags": []
   },
   "source": [
    "---\n",
    "\n",
    "\n",
    "\n",
    "\n",
    "*Have questions or comments? Visit the [course discussion forum](https://www.kaggle.com/learn/python/discussion) to chat with other learners.*"
   ]
  }
 ],
 "metadata": {
  "anaconda-cloud": {},
  "celltoolbar": "Edit Metadata",
  "kaggle": {
   "accelerator": "none",
   "dataSources": [],
   "isGpuEnabled": false,
   "isInternetEnabled": false,
   "language": "python",
   "sourceType": "notebook"
  },
  "kernelspec": {
   "display_name": "Python 3",
   "language": "python",
   "name": "python3"
  },
  "language_info": {
   "codemirror_mode": {
    "name": "ipython",
    "version": 3
   },
   "file_extension": ".py",
   "mimetype": "text/x-python",
   "name": "python",
   "nbconvert_exporter": "python",
   "pygments_lexer": "ipython3",
   "version": "3.10.12"
  },
  "learntools_metadata": {
   "lesson_index": 0,
   "type": "tutorial"
  },
  "papermill": {
   "default_parameters": {},
   "duration": 3.926906,
   "end_time": "2025-01-24T18:40:25.746790",
   "environment_variables": {},
   "exception": null,
   "input_path": "__notebook__.ipynb",
   "output_path": "__notebook__.ipynb",
   "parameters": {},
   "start_time": "2025-01-24T18:40:21.819884",
   "version": "2.6.0"
  }
 },
 "nbformat": 4,
 "nbformat_minor": 5
}
