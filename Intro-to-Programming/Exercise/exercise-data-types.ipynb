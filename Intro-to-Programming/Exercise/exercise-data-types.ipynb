{
 "cells": [
  {
   "cell_type": "markdown",
   "id": "a68cd89e",
   "metadata": {
    "papermill": {
     "duration": 0.006287,
     "end_time": "2025-01-17T22:40:20.072237",
     "exception": false,
     "start_time": "2025-01-17T22:40:20.065950",
     "status": "completed"
    },
    "tags": []
   },
   "source": [
    "**This notebook is an exercise in the [Intro to Programming](https://www.kaggle.com/learn/intro-to-programming) course.  You can reference the tutorial at [this link](https://www.kaggle.com/alexisbcook/data-types).**\n",
    "\n",
    "---\n"
   ]
  },
  {
   "cell_type": "markdown",
   "id": "51d2b1e1",
   "metadata": {
    "papermill": {
     "duration": 0.005379,
     "end_time": "2025-01-17T22:40:20.083692",
     "exception": false,
     "start_time": "2025-01-17T22:40:20.078313",
     "status": "completed"
    },
    "tags": []
   },
   "source": [
    "In the tutorial, you learned about four different data types: floats, integers, strings, and booleans.  In this exercise, you'll experiment with them.\n",
    "\n",
    "# Set up the notebook\n",
    "\n",
    "Run the next code cell without changes to set up the notebook."
   ]
  },
  {
   "cell_type": "code",
   "execution_count": 1,
   "id": "907a52d8",
   "metadata": {
    "execution": {
     "iopub.execute_input": "2025-01-17T22:40:20.096098Z",
     "iopub.status.busy": "2025-01-17T22:40:20.095565Z",
     "iopub.status.idle": "2025-01-17T22:40:21.038851Z",
     "shell.execute_reply": "2025-01-17T22:40:21.037753Z"
    },
    "papermill": {
     "duration": 0.951398,
     "end_time": "2025-01-17T22:40:21.040465",
     "exception": false,
     "start_time": "2025-01-17T22:40:20.089067",
     "status": "completed"
    },
    "tags": []
   },
   "outputs": [
    {
     "name": "stdout",
     "output_type": "stream",
     "text": [
      "Setup complete.\n"
     ]
    }
   ],
   "source": [
    "# Set up the exercise\n",
    "from learntools.core import binder\n",
    "binder.bind(globals())\n",
    "from learntools.intro_to_programming.ex3 import *\n",
    "print('Setup complete.')"
   ]
  },
  {
   "cell_type": "markdown",
   "id": "cb43727f",
   "metadata": {
    "papermill": {
     "duration": 0.005437,
     "end_time": "2025-01-17T22:40:21.051727",
     "exception": false,
     "start_time": "2025-01-17T22:40:21.046290",
     "status": "completed"
    },
    "tags": []
   },
   "source": [
    "# Question 1\n",
    "\n",
    "You have seen how to convert a float to an integer with the `int` function.  Try this out yourself by running the code cell below."
   ]
  },
  {
   "cell_type": "code",
   "execution_count": 2,
   "id": "fda3cc98",
   "metadata": {
    "execution": {
     "iopub.execute_input": "2025-01-17T22:40:21.064634Z",
     "iopub.status.busy": "2025-01-17T22:40:21.064071Z",
     "iopub.status.idle": "2025-01-17T22:40:21.070968Z",
     "shell.execute_reply": "2025-01-17T22:40:21.069754Z"
    },
    "papermill": {
     "duration": 0.01555,
     "end_time": "2025-01-17T22:40:21.072848",
     "exception": false,
     "start_time": "2025-01-17T22:40:21.057298",
     "status": "completed"
    },
    "tags": []
   },
   "outputs": [
    {
     "name": "stdout",
     "output_type": "stream",
     "text": [
      "1.0\n",
      "<class 'float'>\n",
      "1\n",
      "<class 'int'>\n"
     ]
    }
   ],
   "source": [
    "# Define a float\n",
    "y = 1.\n",
    "print(y)\n",
    "print(type(y))\n",
    "\n",
    "# Convert float to integer with the int function\n",
    "z = int(y)\n",
    "print(z)\n",
    "print(type(z))"
   ]
  },
  {
   "cell_type": "markdown",
   "id": "d5cfa8b1",
   "metadata": {
    "papermill": {
     "duration": 0.005621,
     "end_time": "2025-01-17T22:40:21.084348",
     "exception": false,
     "start_time": "2025-01-17T22:40:21.078727",
     "status": "completed"
    },
    "tags": []
   },
   "source": [
    "In this case, the float you are using has no numbers after the decimal.  \n",
    "- But what happens when you try to convert a float with a fractional part to an integer?  \n",
    "- How does the outcome of the `int` function change for positive and negative numbers?\n",
    "\n",
    "Use the next code cell to investigate and answer these questions.  Feel free to add or remove any lines of code -- it is your workspace!"
   ]
  },
  {
   "cell_type": "code",
   "execution_count": 3,
   "id": "f672f2ec",
   "metadata": {
    "execution": {
     "iopub.execute_input": "2025-01-17T22:40:21.097320Z",
     "iopub.status.busy": "2025-01-17T22:40:21.096951Z",
     "iopub.status.idle": "2025-01-17T22:40:21.102980Z",
     "shell.execute_reply": "2025-01-17T22:40:21.101837Z"
    },
    "papermill": {
     "duration": 0.014439,
     "end_time": "2025-01-17T22:40:21.104653",
     "exception": false,
     "start_time": "2025-01-17T22:40:21.090214",
     "status": "completed"
    },
    "tags": []
   },
   "outputs": [
    {
     "name": "stdout",
     "output_type": "stream",
     "text": [
      "1\n",
      "1\n",
      "-3\n",
      "-2\n"
     ]
    }
   ],
   "source": [
    "# Uncomment and run this code to get started!\n",
    "print(int(1.2321))\n",
    "print(int(1.747))\n",
    "print(int(-3.94535))\n",
    "print(int(-2.19774))"
   ]
  },
  {
   "cell_type": "markdown",
   "id": "48ee1c3c",
   "metadata": {
    "papermill": {
     "duration": 0.005458,
     "end_time": "2025-01-17T22:40:21.115875",
     "exception": false,
     "start_time": "2025-01-17T22:40:21.110417",
     "status": "completed"
    },
    "tags": []
   },
   "source": [
    "Once you have an answer, run the code cell below to see the solution.  Viewing the solution will give you credit for answering the problem."
   ]
  },
  {
   "cell_type": "code",
   "execution_count": 4,
   "id": "31360aff",
   "metadata": {
    "execution": {
     "iopub.execute_input": "2025-01-17T22:40:21.128242Z",
     "iopub.status.busy": "2025-01-17T22:40:21.127906Z",
     "iopub.status.idle": "2025-01-17T22:40:21.135949Z",
     "shell.execute_reply": "2025-01-17T22:40:21.135097Z"
    },
    "papermill": {
     "duration": 0.016579,
     "end_time": "2025-01-17T22:40:21.138016",
     "exception": false,
     "start_time": "2025-01-17T22:40:21.121437",
     "status": "completed"
    },
    "tags": []
   },
   "outputs": [
    {
     "data": {
      "application/javascript": [
       "parent.postMessage({\"jupyterEvent\": \"custom.exercise_interaction\", \"data\": {\"outcomeType\": 1, \"valueTowardsCompletion\": 0.2, \"interactionType\": 1, \"questionType\": 4, \"questionId\": \"1_FloatToInt\", \"learnToolsVersion\": \"0.3.4\", \"failureMessage\": \"\", \"exceptionClass\": \"\", \"trace\": \"\"}}, \"*\")"
      ],
      "text/plain": [
       "<IPython.core.display.Javascript object>"
      ]
     },
     "metadata": {},
     "output_type": "display_data"
    },
    {
     "data": {
      "text/markdown": [
       "<span style=\"color:#33cc33\">Correct:</span> \n",
       "\n",
       "Negative floats are always rounded UP to the closest integer (for instance, both -1.1 and -1.9 are rounded up to -1). Positive floats are always rounded DOWN to the closest integer (for instance, 2.1 and 2.9 are rounded down to 2)."
      ],
      "text/plain": [
       "Correct: \n",
       "\n",
       "Negative floats are always rounded UP to the closest integer (for instance, both -1.1 and -1.9 are rounded up to -1). Positive floats are always rounded DOWN to the closest integer (for instance, 2.1 and 2.9 are rounded down to 2)."
      ]
     },
     "metadata": {},
     "output_type": "display_data"
    }
   ],
   "source": [
    "# Check your answer (Run this code cell to receive credit!)\n",
    "q1.check()"
   ]
  },
  {
   "cell_type": "markdown",
   "id": "c1f6ed11",
   "metadata": {
    "papermill": {
     "duration": 0.005582,
     "end_time": "2025-01-17T22:40:21.150282",
     "exception": false,
     "start_time": "2025-01-17T22:40:21.144700",
     "status": "completed"
    },
    "tags": []
   },
   "source": [
    "# Question 2\n",
    "\n",
    "In the tutorial, you learned about booleans (which can take a value of `True` or `False`), in addition to integers, floats, and strings.  For this question, your goal is to determine what happens when you multiply a boolean by any of these data types.  Specifically, \n",
    "- What happens when you multiply an integer or float by `True`?  What happens when you multiply them by `False`?  How does the answer change if the numbers are positive or negative?\n",
    "- What happens when you multiply a string by `True`?  By `False`?\n",
    "\n",
    "Use the next code cell for your investigation. "
   ]
  },
  {
   "cell_type": "code",
   "execution_count": 5,
   "id": "abcfcfa7",
   "metadata": {
    "execution": {
     "iopub.execute_input": "2025-01-17T22:40:21.163266Z",
     "iopub.status.busy": "2025-01-17T22:40:21.162904Z",
     "iopub.status.idle": "2025-01-17T22:40:21.168507Z",
     "shell.execute_reply": "2025-01-17T22:40:21.167408Z"
    },
    "papermill": {
     "duration": 0.014206,
     "end_time": "2025-01-17T22:40:21.170311",
     "exception": false,
     "start_time": "2025-01-17T22:40:21.156105",
     "status": "completed"
    },
    "tags": []
   },
   "outputs": [
    {
     "name": "stdout",
     "output_type": "stream",
     "text": [
      "3\n",
      "-3.1\n",
      "<class 'str'>\n",
      "0\n"
     ]
    }
   ],
   "source": [
    "# Uncomment and run this code to get started!\n",
    "print(3 * True)\n",
    "print(-3.1 * True)\n",
    "print(type(\"abc\" * False))\n",
    "print(len(\"abc\" * False))"
   ]
  },
  {
   "cell_type": "markdown",
   "id": "f5879ca4",
   "metadata": {
    "papermill": {
     "duration": 0.005914,
     "end_time": "2025-01-17T22:40:21.183042",
     "exception": false,
     "start_time": "2025-01-17T22:40:21.177128",
     "status": "completed"
    },
    "tags": []
   },
   "source": [
    "Once you have an answer, run the code cell below to see the solution.  Viewing the solution will give you credit for answering the problem."
   ]
  },
  {
   "cell_type": "code",
   "execution_count": 6,
   "id": "407802b0",
   "metadata": {
    "execution": {
     "iopub.execute_input": "2025-01-17T22:40:21.196704Z",
     "iopub.status.busy": "2025-01-17T22:40:21.196266Z",
     "iopub.status.idle": "2025-01-17T22:40:21.203724Z",
     "shell.execute_reply": "2025-01-17T22:40:21.202675Z"
    },
    "papermill": {
     "duration": 0.015977,
     "end_time": "2025-01-17T22:40:21.205381",
     "exception": false,
     "start_time": "2025-01-17T22:40:21.189404",
     "status": "completed"
    },
    "tags": []
   },
   "outputs": [
    {
     "data": {
      "application/javascript": [
       "parent.postMessage({\"jupyterEvent\": \"custom.exercise_interaction\", \"data\": {\"outcomeType\": 1, \"valueTowardsCompletion\": 0.2, \"interactionType\": 1, \"questionType\": 4, \"questionId\": \"2_MultiplyBooleans\", \"learnToolsVersion\": \"0.3.4\", \"failureMessage\": \"\", \"exceptionClass\": \"\", \"trace\": \"\"}}, \"*\")"
      ],
      "text/plain": [
       "<IPython.core.display.Javascript object>"
      ]
     },
     "metadata": {},
     "output_type": "display_data"
    },
    {
     "data": {
      "text/markdown": [
       "<span style=\"color:#33cc33\">Correct:</span> \n",
       "\n",
       "When you multiple an integer or float by a boolean with value `True`, it just returns that same integer or float (and is equivalent to multiplying by 1).  If you multiply an integer or float by a boolean with value `False`, it always returns 0.  This is true for both positive and negative numbers.  If you multiply a string by a boolean with value `True`, it just returns that same string.  And if you multiply a string by a boolean with value `False`, it returns an empty string (or a string with length zero)."
      ],
      "text/plain": [
       "Correct: \n",
       "\n",
       "When you multiple an integer or float by a boolean with value `True`, it just returns that same integer or float (and is equivalent to multiplying by 1).  If you multiply an integer or float by a boolean with value `False`, it always returns 0.  This is true for both positive and negative numbers.  If you multiply a string by a boolean with value `True`, it just returns that same string.  And if you multiply a string by a boolean with value `False`, it returns an empty string (or a string with length zero)."
      ]
     },
     "metadata": {},
     "output_type": "display_data"
    }
   ],
   "source": [
    "# Check your answer (Run this code cell to receive credit!)\n",
    "q2.check()"
   ]
  },
  {
   "cell_type": "markdown",
   "id": "416541f7",
   "metadata": {
    "papermill": {
     "duration": 0.006658,
     "end_time": "2025-01-17T22:40:21.219082",
     "exception": false,
     "start_time": "2025-01-17T22:40:21.212424",
     "status": "completed"
    },
    "tags": []
   },
   "source": [
    "# Question 3\n",
    "\n",
    "In this question, you will build off your work from the previous exercise to write a function that estimates the value of a house.\n",
    "\n",
    "Use the next code cell to create a function `get_expected_cost` that takes as input three variables:\n",
    "- `beds` - number of bedrooms (data type float)\n",
    "- `baths` - number of bathrooms (data type float)\n",
    "- `has_basement` - whether or not the house has a basement (data type boolean)\n",
    "\n",
    "It should return the expected cost of a house with those characteristics. Assume that:\n",
    "- the expected cost for a house with 0 bedrooms and 0 bathrooms, and no basement is 80000, \n",
    "- each bedroom adds 30000 to the expected cost,\n",
    "- each bathroom adds 10000 to the expected cost, and\n",
    "- a basement adds 40000 to the expected cost.\n",
    "\n",
    "For instance,\n",
    "- a house with 1 bedroom, 1 bathroom, and no basement has an expected cost of 80000 + 30000 + 10000 = 120000.  This value will be calculated with `get_expected_cost(1, 1, False)`.\n",
    "- a house with 2 bedrooms, 1 bathroom, and a basement has an expected cost of 80000 + 2*30000 + 10000 + 40000 = 190000.  This value will be calculated with `get_expected_cost(2, 1, True)`.\n",
    "\n",
    "Remember you can always get a hint by uncommenting `q3.hint()` in the code cell following the next!"
   ]
  },
  {
   "cell_type": "code",
   "execution_count": 7,
   "id": "98383c1e",
   "metadata": {
    "execution": {
     "iopub.execute_input": "2025-01-17T22:40:21.232818Z",
     "iopub.status.busy": "2025-01-17T22:40:21.232384Z",
     "iopub.status.idle": "2025-01-17T22:40:21.243122Z",
     "shell.execute_reply": "2025-01-17T22:40:21.236693Z"
    },
    "papermill": {
     "duration": 0.021903,
     "end_time": "2025-01-17T22:40:21.247126",
     "exception": false,
     "start_time": "2025-01-17T22:40:21.225223",
     "status": "completed"
    },
    "tags": []
   },
   "outputs": [
    {
     "name": "stdout",
     "output_type": "stream",
     "text": [
      "0\n"
     ]
    }
   ],
   "source": [
    "print(3*False)"
   ]
  },
  {
   "cell_type": "code",
   "execution_count": 8,
   "id": "1299ab02",
   "metadata": {
    "execution": {
     "iopub.execute_input": "2025-01-17T22:40:21.263164Z",
     "iopub.status.busy": "2025-01-17T22:40:21.262775Z",
     "iopub.status.idle": "2025-01-17T22:40:21.270966Z",
     "shell.execute_reply": "2025-01-17T22:40:21.269931Z"
    },
    "papermill": {
     "duration": 0.016999,
     "end_time": "2025-01-17T22:40:21.272538",
     "exception": false,
     "start_time": "2025-01-17T22:40:21.255539",
     "status": "completed"
    },
    "tags": []
   },
   "outputs": [
    {
     "data": {
      "application/javascript": [
       "parent.postMessage({\"jupyterEvent\": \"custom.exercise_interaction\", \"data\": {\"outcomeType\": 1, \"valueTowardsCompletion\": 0.2, \"interactionType\": 1, \"questionType\": 2, \"questionId\": \"3_EstimateHouseValueBool\", \"learnToolsVersion\": \"0.3.4\", \"failureMessage\": \"\", \"exceptionClass\": \"\", \"trace\": \"\"}}, \"*\")"
      ],
      "text/plain": [
       "<IPython.core.display.Javascript object>"
      ]
     },
     "metadata": {},
     "output_type": "display_data"
    },
    {
     "data": {
      "text/markdown": [
       "<span style=\"color:#33cc33\">Correct</span>"
      ],
      "text/plain": [
       "Correct"
      ]
     },
     "metadata": {},
     "output_type": "display_data"
    }
   ],
   "source": [
    "# TODO: Complete the function\n",
    "def get_expected_cost(beds, baths, has_basement):\n",
    "    value =80000+beds*30000+baths*10000+40000*bool(has_basement)\n",
    "    return value\n",
    "\n",
    "# Check your answer \n",
    "q3.check()"
   ]
  },
  {
   "cell_type": "code",
   "execution_count": 9,
   "id": "d284f862",
   "metadata": {
    "execution": {
     "iopub.execute_input": "2025-01-17T22:40:21.287014Z",
     "iopub.status.busy": "2025-01-17T22:40:21.286674Z",
     "iopub.status.idle": "2025-01-17T22:40:21.296791Z",
     "shell.execute_reply": "2025-01-17T22:40:21.295530Z"
    },
    "papermill": {
     "duration": 0.019347,
     "end_time": "2025-01-17T22:40:21.298556",
     "exception": false,
     "start_time": "2025-01-17T22:40:21.279209",
     "status": "completed"
    },
    "tags": []
   },
   "outputs": [
    {
     "data": {
      "application/javascript": [
       "parent.postMessage({\"jupyterEvent\": \"custom.exercise_interaction\", \"data\": {\"interactionType\": 2, \"questionType\": 2, \"questionId\": \"3_EstimateHouseValueBool\", \"learnToolsVersion\": \"0.3.4\", \"valueTowardsCompletion\": 0.0, \"failureMessage\": \"\", \"exceptionClass\": \"\", \"trace\": \"\", \"outcomeType\": 4}}, \"*\")"
      ],
      "text/plain": [
       "<IPython.core.display.Javascript object>"
      ]
     },
     "metadata": {},
     "output_type": "display_data"
    },
    {
     "data": {
      "text/markdown": [
       "<span style=\"color:#3366cc\">Hint:</span> The variable `has_basement` is either `True` or `False`.  What happens when you multiply it by 40000 (the value of a basement)?  Refer to the previous question if you are unsure."
      ],
      "text/plain": [
       "Hint: The variable `has_basement` is either `True` or `False`.  What happens when you multiply it by 40000 (the value of a basement)?  Refer to the previous question if you are unsure."
      ]
     },
     "metadata": {},
     "output_type": "display_data"
    },
    {
     "data": {
      "application/javascript": [
       "parent.postMessage({\"jupyterEvent\": \"custom.exercise_interaction\", \"data\": {\"interactionType\": 3, \"questionType\": 2, \"questionId\": \"3_EstimateHouseValueBool\", \"learnToolsVersion\": \"0.3.4\", \"valueTowardsCompletion\": 0.0, \"failureMessage\": \"\", \"exceptionClass\": \"\", \"trace\": \"\", \"outcomeType\": 4}}, \"*\")"
      ],
      "text/plain": [
       "<IPython.core.display.Javascript object>"
      ]
     },
     "metadata": {},
     "output_type": "display_data"
    },
    {
     "data": {
      "text/markdown": [
       "<span style=\"color:#33cc99\">Solution:</span> \n",
       "```python\n",
       "def get_expected_cost(beds, baths, has_basement):\n",
       "    value = 80000 + 30000 * beds + 10000 * baths + 40000 * has_basement\n",
       "    return value\n",
       "\n",
       "```"
      ],
      "text/plain": [
       "Solution: \n",
       "```python\n",
       "def get_expected_cost(beds, baths, has_basement):\n",
       "    value = 80000 + 30000 * beds + 10000 * baths + 40000 * has_basement\n",
       "    return value\n",
       "\n",
       "```"
      ]
     },
     "metadata": {},
     "output_type": "display_data"
    }
   ],
   "source": [
    "# Uncomment to see a hint\n",
    "q3.hint()\n",
    "\n",
    "# Uncomment to view the solution\n",
    "q3.solution()"
   ]
  },
  {
   "cell_type": "markdown",
   "id": "54a1641d",
   "metadata": {
    "papermill": {
     "duration": 0.006688,
     "end_time": "2025-01-17T22:40:21.312132",
     "exception": false,
     "start_time": "2025-01-17T22:40:21.305444",
     "status": "completed"
    },
    "tags": []
   },
   "source": [
    "# Question 4\n",
    "\n",
    "We'll continue our study of boolean arithmetic.  For this question, your task is to provide a description of what happpens when you add booleans. \n",
    "\n",
    "Use the next code cell for your investigation.  Feel free to add or remove any lines of code - use it as your workspace!"
   ]
  },
  {
   "cell_type": "code",
   "execution_count": 10,
   "id": "1ed21f65",
   "metadata": {
    "execution": {
     "iopub.execute_input": "2025-01-17T22:40:21.327064Z",
     "iopub.status.busy": "2025-01-17T22:40:21.326726Z",
     "iopub.status.idle": "2025-01-17T22:40:21.332490Z",
     "shell.execute_reply": "2025-01-17T22:40:21.331314Z"
    },
    "papermill": {
     "duration": 0.0153,
     "end_time": "2025-01-17T22:40:21.334257",
     "exception": false,
     "start_time": "2025-01-17T22:40:21.318957",
     "status": "completed"
    },
    "tags": []
   },
   "outputs": [
    {
     "name": "stdout",
     "output_type": "stream",
     "text": [
      "0\n",
      "1\n",
      "1\n",
      "2\n",
      "3\n"
     ]
    }
   ],
   "source": [
    "print(False + False)\n",
    "print(True + False)\n",
    "print(False + True)\n",
    "print(True + True)\n",
    "print(False + True + True + True)"
   ]
  },
  {
   "cell_type": "markdown",
   "id": "1b60afa3",
   "metadata": {
    "papermill": {
     "duration": 0.006594,
     "end_time": "2025-01-17T22:40:21.348038",
     "exception": false,
     "start_time": "2025-01-17T22:40:21.341444",
     "status": "completed"
    },
    "tags": []
   },
   "source": [
    "Once you have an answer, run the code cell below to see the solution.  Viewing the solution will give you credit for answering the problem."
   ]
  },
  {
   "cell_type": "code",
   "execution_count": 11,
   "id": "adab1510",
   "metadata": {
    "execution": {
     "iopub.execute_input": "2025-01-17T22:40:21.363086Z",
     "iopub.status.busy": "2025-01-17T22:40:21.362691Z",
     "iopub.status.idle": "2025-01-17T22:40:21.369807Z",
     "shell.execute_reply": "2025-01-17T22:40:21.368700Z"
    },
    "papermill": {
     "duration": 0.016483,
     "end_time": "2025-01-17T22:40:21.371284",
     "exception": false,
     "start_time": "2025-01-17T22:40:21.354801",
     "status": "completed"
    },
    "tags": []
   },
   "outputs": [
    {
     "data": {
      "application/javascript": [
       "parent.postMessage({\"jupyterEvent\": \"custom.exercise_interaction\", \"data\": {\"outcomeType\": 1, \"valueTowardsCompletion\": 0.2, \"interactionType\": 1, \"questionType\": 4, \"questionId\": \"4_AddingBooleans\", \"learnToolsVersion\": \"0.3.4\", \"failureMessage\": \"\", \"exceptionClass\": \"\", \"trace\": \"\"}}, \"*\")"
      ],
      "text/plain": [
       "<IPython.core.display.Javascript object>"
      ]
     },
     "metadata": {},
     "output_type": "display_data"
    },
    {
     "data": {
      "text/markdown": [
       "<span style=\"color:#33cc33\">Correct:</span> \n",
       "\n",
       "When you add booleans, adding `False` is equivalent to adding 0, and adding `True` is equivalent to adding 1."
      ],
      "text/plain": [
       "Correct: \n",
       "\n",
       "When you add booleans, adding `False` is equivalent to adding 0, and adding `True` is equivalent to adding 1."
      ]
     },
     "metadata": {},
     "output_type": "display_data"
    }
   ],
   "source": [
    "# Check your answer (Run this code cell to receive credit!)\n",
    "q4.check()"
   ]
  },
  {
   "cell_type": "markdown",
   "id": "d5120fb3",
   "metadata": {
    "papermill": {
     "duration": 0.006948,
     "end_time": "2025-01-17T22:40:21.385563",
     "exception": false,
     "start_time": "2025-01-17T22:40:21.378615",
     "status": "completed"
    },
    "tags": []
   },
   "source": [
    "# 🌶️ Question 5\n",
    "\n",
    "You own an online shop where you sell rings with custom engravings.  You offer both gold plated and solid gold rings.\n",
    "- Gold plated rings have a base cost of \\\\$50, and you charge \\\\$7 per engraved unit.  \n",
    "- Solid gold rings have a base cost of \\\\$100, and you charge \\\\$10 per engraved unit.\n",
    "- Spaces and punctuation are counted as engraved units.\n",
    "\n",
    "Write a function `cost_of_project()` that takes two arguments:\n",
    "- `engraving` - a Python string with the text of the engraving\n",
    "- `solid_gold` - a Boolean that indicates whether the ring is solid gold\n",
    "\n",
    "It should return the cost of the project.  This question should be fairly challenging, and you may need a hint."
   ]
  },
  {
   "cell_type": "code",
   "execution_count": 12,
   "id": "e8a18fb4",
   "metadata": {
    "execution": {
     "iopub.execute_input": "2025-01-17T22:40:21.401625Z",
     "iopub.status.busy": "2025-01-17T22:40:21.401245Z",
     "iopub.status.idle": "2025-01-17T22:40:21.409025Z",
     "shell.execute_reply": "2025-01-17T22:40:21.408103Z"
    },
    "papermill": {
     "duration": 0.017744,
     "end_time": "2025-01-17T22:40:21.410696",
     "exception": false,
     "start_time": "2025-01-17T22:40:21.392952",
     "status": "completed"
    },
    "tags": []
   },
   "outputs": [
    {
     "data": {
      "application/javascript": [
       "parent.postMessage({\"jupyterEvent\": \"custom.exercise_interaction\", \"data\": {\"outcomeType\": 1, \"valueTowardsCompletion\": 0.2, \"interactionType\": 1, \"questionType\": 2, \"questionId\": \"5_CustomEngravings\", \"learnToolsVersion\": \"0.3.4\", \"failureMessage\": \"\", \"exceptionClass\": \"\", \"trace\": \"\"}}, \"*\")"
      ],
      "text/plain": [
       "<IPython.core.display.Javascript object>"
      ]
     },
     "metadata": {},
     "output_type": "display_data"
    },
    {
     "data": {
      "text/markdown": [
       "<span style=\"color:#33cc33\">Correct</span>"
      ],
      "text/plain": [
       "Correct"
      ]
     },
     "metadata": {},
     "output_type": "display_data"
    }
   ],
   "source": [
    "def cost_of_project(engraving, solid_gold):\n",
    "    cost =100*(solid_gold)+50*(not solid_gold)+10*(solid_gold)*(len(engraving))+7*(not solid_gold)*(len(engraving))\n",
    "    return cost\n",
    "\n",
    "# Check your answer\n",
    "q5.check()"
   ]
  },
  {
   "cell_type": "code",
   "execution_count": 13,
   "id": "9ae506db",
   "metadata": {
    "execution": {
     "iopub.execute_input": "2025-01-17T22:40:21.426814Z",
     "iopub.status.busy": "2025-01-17T22:40:21.426422Z",
     "iopub.status.idle": "2025-01-17T22:40:21.436472Z",
     "shell.execute_reply": "2025-01-17T22:40:21.435668Z"
    },
    "papermill": {
     "duration": 0.019844,
     "end_time": "2025-01-17T22:40:21.437999",
     "exception": false,
     "start_time": "2025-01-17T22:40:21.418155",
     "status": "completed"
    },
    "tags": []
   },
   "outputs": [
    {
     "data": {
      "application/javascript": [
       "parent.postMessage({\"jupyterEvent\": \"custom.exercise_interaction\", \"data\": {\"interactionType\": 2, \"questionType\": 2, \"questionId\": \"5_CustomEngravings\", \"learnToolsVersion\": \"0.3.4\", \"valueTowardsCompletion\": 0.0, \"failureMessage\": \"\", \"exceptionClass\": \"\", \"trace\": \"\", \"outcomeType\": 4}}, \"*\")"
      ],
      "text/plain": [
       "<IPython.core.display.Javascript object>"
      ]
     },
     "metadata": {},
     "output_type": "display_data"
    },
    {
     "data": {
      "text/markdown": [
       "<span style=\"color:#3366cc\">Hint:</span> There are two options - either the project uses solid gold or does not.  With this in mind, you can structure your solution like this: `cost = solid_gold * ____ + (not solid_gold) * ____`.  You need to figure out how to fill in the blanks. Also, remember that:\n",
       "- If `solid_gold = True`, then `(not solid_gold) = False`, and if `solid_gold = False`, then `(not solid_gold) = True`.\n",
       "- Multiplying an integer by `True` is equivalent to multiplying it by 1, and multiplying an integer by `False` is equivalent to multiplying it by 0."
      ],
      "text/plain": [
       "Hint: There are two options - either the project uses solid gold or does not.  With this in mind, you can structure your solution like this: `cost = solid_gold * ____ + (not solid_gold) * ____`.  You need to figure out how to fill in the blanks. Also, remember that:\n",
       "- If `solid_gold = True`, then `(not solid_gold) = False`, and if `solid_gold = False`, then `(not solid_gold) = True`.\n",
       "- Multiplying an integer by `True` is equivalent to multiplying it by 1, and multiplying an integer by `False` is equivalent to multiplying it by 0."
      ]
     },
     "metadata": {},
     "output_type": "display_data"
    },
    {
     "data": {
      "application/javascript": [
       "parent.postMessage({\"jupyterEvent\": \"custom.exercise_interaction\", \"data\": {\"interactionType\": 3, \"questionType\": 2, \"questionId\": \"5_CustomEngravings\", \"learnToolsVersion\": \"0.3.4\", \"valueTowardsCompletion\": 0.0, \"failureMessage\": \"\", \"exceptionClass\": \"\", \"trace\": \"\", \"outcomeType\": 4}}, \"*\")"
      ],
      "text/plain": [
       "<IPython.core.display.Javascript object>"
      ]
     },
     "metadata": {},
     "output_type": "display_data"
    },
    {
     "data": {
      "text/markdown": [
       "<span style=\"color:#33cc99\">Solution:</span> \n",
       "```python\n",
       "def cost_of_project(engraving, solid_gold):\n",
       "    cost = solid_gold * (100 + 10 * len(engraving)) + (not solid_gold) * (50 + 7 * len(engraving))\n",
       "    return cost\n",
       "\n",
       "```"
      ],
      "text/plain": [
       "Solution: \n",
       "```python\n",
       "def cost_of_project(engraving, solid_gold):\n",
       "    cost = solid_gold * (100 + 10 * len(engraving)) + (not solid_gold) * (50 + 7 * len(engraving))\n",
       "    return cost\n",
       "\n",
       "```"
      ]
     },
     "metadata": {},
     "output_type": "display_data"
    }
   ],
   "source": [
    "# Uncomment to see a hint\n",
    "q5.hint()\n",
    "\n",
    "# Uncomment to view the solution\n",
    "q5.solution()"
   ]
  },
  {
   "cell_type": "code",
   "execution_count": 14,
   "id": "62d6bc69",
   "metadata": {
    "execution": {
     "iopub.execute_input": "2025-01-17T22:40:21.455053Z",
     "iopub.status.busy": "2025-01-17T22:40:21.454705Z",
     "iopub.status.idle": "2025-01-17T22:40:21.460547Z",
     "shell.execute_reply": "2025-01-17T22:40:21.459442Z"
    },
    "papermill": {
     "duration": 0.016051,
     "end_time": "2025-01-17T22:40:21.462075",
     "exception": false,
     "start_time": "2025-01-17T22:40:21.446024",
     "status": "completed"
    },
    "tags": []
   },
   "outputs": [
    {
     "name": "stdout",
     "output_type": "stream",
     "text": [
      "240\n",
      "120\n"
     ]
    }
   ],
   "source": [
    "def cost_of_project(engraving, solid_gold):\n",
    "    cost =100*(solid_gold)+50*(not solid_gold)+10*(solid_gold)*(len(engraving))+7*(not solid_gold)*(len(engraving))\n",
    "    return cost\n",
    "    \n",
    "project_one = cost_of_project(\"Charlie+Denver\", True)\n",
    "print(project_one)\n",
    "\n",
    "project_two = cost_of_project(\"08/10/2000\", False)\n",
    "print(project_two)\n"
   ]
  },
  {
   "cell_type": "markdown",
   "id": "bff26070",
   "metadata": {
    "papermill": {
     "duration": 0.007558,
     "end_time": "2025-01-17T22:40:21.477595",
     "exception": false,
     "start_time": "2025-01-17T22:40:21.470037",
     "status": "completed"
    },
    "tags": []
   },
   "source": [
    "Run the next code cell to calculate the cost of engraving `Charlie+Denver` on a solid gold ring."
   ]
  },
  {
   "cell_type": "code",
   "execution_count": 15,
   "id": "3797f12e",
   "metadata": {
    "execution": {
     "iopub.execute_input": "2025-01-17T22:40:21.494519Z",
     "iopub.status.busy": "2025-01-17T22:40:21.494196Z",
     "iopub.status.idle": "2025-01-17T22:40:21.499032Z",
     "shell.execute_reply": "2025-01-17T22:40:21.498057Z"
    },
    "papermill": {
     "duration": 0.015222,
     "end_time": "2025-01-17T22:40:21.500634",
     "exception": false,
     "start_time": "2025-01-17T22:40:21.485412",
     "status": "completed"
    },
    "tags": []
   },
   "outputs": [
    {
     "name": "stdout",
     "output_type": "stream",
     "text": [
      "240\n"
     ]
    }
   ],
   "source": [
    "project_one = cost_of_project(\"Charlie+Denver\", True)\n",
    "print(project_one)"
   ]
  },
  {
   "cell_type": "markdown",
   "id": "45c038d8",
   "metadata": {
    "papermill": {
     "duration": 0.007509,
     "end_time": "2025-01-17T22:40:21.516163",
     "exception": false,
     "start_time": "2025-01-17T22:40:21.508654",
     "status": "completed"
    },
    "tags": []
   },
   "source": [
    "Use the next code cell to calculate the cost of engraving `08/10/2000` on a gold plated ring."
   ]
  },
  {
   "cell_type": "code",
   "execution_count": 16,
   "id": "853b1458",
   "metadata": {
    "execution": {
     "iopub.execute_input": "2025-01-17T22:40:21.533203Z",
     "iopub.status.busy": "2025-01-17T22:40:21.532872Z",
     "iopub.status.idle": "2025-01-17T22:40:21.537685Z",
     "shell.execute_reply": "2025-01-17T22:40:21.536492Z"
    },
    "papermill": {
     "duration": 0.015346,
     "end_time": "2025-01-17T22:40:21.539281",
     "exception": false,
     "start_time": "2025-01-17T22:40:21.523935",
     "status": "completed"
    },
    "tags": []
   },
   "outputs": [
    {
     "name": "stdout",
     "output_type": "stream",
     "text": [
      "120\n"
     ]
    }
   ],
   "source": [
    "project_two = cost_of_project(\"08/10/2000\", False)\n",
    "print(project_two)"
   ]
  },
  {
   "cell_type": "markdown",
   "id": "533a0914",
   "metadata": {
    "papermill": {
     "duration": 0.007634,
     "end_time": "2025-01-17T22:40:21.554985",
     "exception": false,
     "start_time": "2025-01-17T22:40:21.547351",
     "status": "completed"
    },
    "tags": []
   },
   "source": [
    "# Keep going\n",
    "\n",
    "Continue to the next lesson to **[learn about conditions and conditional statements](https://www.kaggle.com/alexisbcook/conditions-and-conditional-statements)**."
   ]
  },
  {
   "cell_type": "markdown",
   "id": "4afde931",
   "metadata": {
    "papermill": {
     "duration": 0.007526,
     "end_time": "2025-01-17T22:40:21.570148",
     "exception": false,
     "start_time": "2025-01-17T22:40:21.562622",
     "status": "completed"
    },
    "tags": []
   },
   "source": [
    "---\n",
    "\n",
    "\n",
    "\n",
    "\n",
    "*Have questions or comments? Visit the [course discussion forum](https://www.kaggle.com/learn/intro-to-programming/discussion) to chat with other learners.*"
   ]
  }
 ],
 "metadata": {
  "kaggle": {
   "accelerator": "none",
   "dataSources": [],
   "isGpuEnabled": false,
   "isInternetEnabled": false,
   "language": "python",
   "sourceType": "notebook"
  },
  "kernelspec": {
   "display_name": "Python 3",
   "language": "python",
   "name": "python3"
  },
  "language_info": {
   "codemirror_mode": {
    "name": "ipython",
    "version": 3
   },
   "file_extension": ".py",
   "mimetype": "text/x-python",
   "name": "python",
   "nbconvert_exporter": "python",
   "pygments_lexer": "ipython3",
   "version": "3.10.12"
  },
  "papermill": {
   "default_parameters": {},
   "duration": 5.261498,
   "end_time": "2025-01-17T22:40:22.097926",
   "environment_variables": {},
   "exception": null,
   "input_path": "__notebook__.ipynb",
   "output_path": "__notebook__.ipynb",
   "parameters": {},
   "start_time": "2025-01-17T22:40:16.836428",
   "version": "2.3.3"
  }
 },
 "nbformat": 4,
 "nbformat_minor": 5
}
